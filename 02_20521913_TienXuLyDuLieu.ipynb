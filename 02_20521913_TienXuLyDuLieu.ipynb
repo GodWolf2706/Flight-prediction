{
 "cells": [
  {
   "cell_type": "code",
   "execution_count": 1,
   "id": "45857ab2",
   "metadata": {},
   "outputs": [],
   "source": [
    "import pyspark\n",
    "from pyspark.sql import SparkSession\n",
    "from pyspark.sql.functions import lit, concat, col, split, expr, when, hour, round, regexp_replace\n",
    "from pyspark.sql.types import StringType"
   ]
  },
  {
   "cell_type": "code",
   "execution_count": 2,
   "id": "18f4d669",
   "metadata": {},
   "outputs": [
    {
     "name": "stderr",
     "output_type": "stream",
     "text": [
      "24/06/04 16:28:51 WARN Utils: Your hostname, godwolf-2-7 resolves to a loopback address: 127.0.1.1; using 10.0.2.15 instead (on interface enp0s3)\n",
      "24/06/04 16:28:51 WARN Utils: Set SPARK_LOCAL_IP if you need to bind to another address\n",
      "Setting default log level to \"WARN\".\n",
      "To adjust logging level use sc.setLogLevel(newLevel). For SparkR, use setLogLevel(newLevel).\n",
      "24/06/04 16:28:54 WARN NativeCodeLoader: Unable to load native-hadoop library for your platform... using builtin-java classes where applicable\n"
     ]
    }
   ],
   "source": [
    "spark = SparkSession.builder \\\n",
    "    .appName(\"FlightPricePrediction\") \\\n",
    "    .getOrCreate()\n"
   ]
  },
  {
   "cell_type": "markdown",
   "id": "804ddfe9",
   "metadata": {},
   "source": [
    "# thu thap du lieu"
   ]
  },
  {
   "cell_type": "code",
   "execution_count": 3,
   "id": "330c09ac",
   "metadata": {
    "scrolled": true
   },
   "outputs": [
    {
     "name": "stderr",
     "output_type": "stream",
     "text": [
      "                                                                                \r"
     ]
    },
    {
     "name": "stdout",
     "output_type": "stream",
     "text": [
      "+---------+--------+-------+--------+----------+-------------------+-----+----------+--------+----------+-------------------+------+------+\n",
      "|     date| airline|ch_code|num_code|dep_time_1|           dep_time| from|time_taken|    stop|arr_time_1|           arr_time|    to| price|\n",
      "+---------+--------+-------+--------+----------+-------------------+-----+----------+--------+----------+-------------------+------+------+\n",
      "|11/2/2022|AirIndia|     AI|     868| 6:00:00PM|2024-06-04 18:00:00|Delhi|    02h00m|non-stop| 8:00:00PM|2024-06-04 20:00:00|Mumbai|25,612|\n",
      "|11/2/2022|AirIndia|     AI|     624| 7:00:00PM|2024-06-04 19:00:00|Delhi|    02h15m|non-stop| 9:15:00PM|2024-06-04 21:15:00|Mumbai|25,612|\n",
      "|11/2/2022|AirIndia|     AI|     531| 8:00:00PM|2024-06-04 20:00:00|Delhi|    24h45m|  1-stop| 8:45:00PM|2024-06-04 20:45:00|Mumbai|42,220|\n",
      "|11/2/2022|AirIndia|     AI|     839| 9:25:00PM|2024-06-04 21:25:00|Delhi|    26h30m|  1-stop|11:55:00PM|2024-06-04 23:55:00|Mumbai|44,450|\n",
      "|11/2/2022|AirIndia|     AI|     544| 5:15:00PM|2024-06-04 17:15:00|Delhi|    06h40m|  1-stop|11:55:00PM|2024-06-04 23:55:00|Mumbai|46,690|\n",
      "|11/2/2022| Vistara|     UK|     985| 7:50:00PM|2024-06-04 19:50:00|Delhi|    02h10m|non-stop|10:00:00PM|2024-06-04 22:00:00|Mumbai|50,264|\n",
      "|11/2/2022|AirIndia|     AI|     479| 9:15:00PM|2024-06-04 21:15:00|Delhi|    17h45m|  1-stop| 3:00:00PM|2024-06-04 15:00:00|Mumbai|50,669|\n",
      "|11/2/2022|AirIndia|     AI|     473| 6:40:00PM|2024-06-04 18:40:00|Delhi|    22h45m|  1-stop| 5:25:00PM|2024-06-04 17:25:00|Mumbai|51,059|\n",
      "|11/2/2022| Vistara|     UK|     871| 8:35:00PM|2024-06-04 20:35:00|Delhi|    17h55m|  1-stop| 2:30:00PM|2024-06-04 14:30:00|Mumbai|51,731|\n",
      "|11/2/2022| Vistara|     UK|     977| 7:00:00PM|2024-06-04 19:00:00|Delhi|    02h15m|non-stop| 9:15:00PM|2024-06-04 21:15:00|Mumbai|53,288|\n",
      "|11/2/2022|AirIndia|     AI|     504| 9:35:00PM|2024-06-04 21:35:00|Delhi|    11h00m|  1-stop| 8:35:00AM|2024-06-04 08:35:00|Mumbai|56,081|\n",
      "|11/2/2022|AirIndia|     AI|     807| 5:20:00PM|2024-06-04 17:20:00|Delhi|    15h15m|  1-stop| 8:35:00AM|2024-06-04 08:35:00|Mumbai|56,081|\n",
      "|11/2/2022|AirIndia|     AI|     540| 8:40:00PM|2024-06-04 20:40:00|Delhi|    11h25m|  1-stop| 8:05:00AM|2024-06-04 08:05:00|Mumbai|57,074|\n",
      "|11/2/2022|AirIndia|     AI|     537| 4:15:00PM|2024-06-04 16:15:00|Delhi|    15h50m|  1-stop| 8:05:00AM|2024-06-04 08:05:00|Mumbai|57,074|\n",
      "|11/2/2022|AirIndia|     AI|     540| 8:40:00PM|2024-06-04 20:40:00|Delhi|    21h35m|  1-stop| 6:15:00PM|2024-06-04 18:15:00|Mumbai|57,074|\n",
      "|11/2/2022|AirIndia|     AI|     537| 4:15:00PM|2024-06-04 16:15:00|Delhi|    26h00m|  1-stop| 6:15:00PM|2024-06-04 18:15:00|Mumbai|57,074|\n",
      "|11/2/2022| Vistara|     UK|     817| 4:05:00PM|2024-06-04 16:05:00|Delhi|    05h45m|  1-stop| 9:50:00PM|2024-06-04 21:50:00|Mumbai|57,868|\n",
      "|11/2/2022| Vistara|     UK|     817| 4:05:00PM|2024-06-04 16:05:00|Delhi|    16h10m|  1-stop| 8:15:00AM|2024-06-04 08:15:00|Mumbai|57,868|\n",
      "|11/2/2022| Vistara|     UK|     817| 4:05:00PM|2024-06-04 16:05:00|Delhi|    28h10m|  1-stop| 8:15:00PM|2024-06-04 20:15:00|Mumbai|57,868|\n",
      "|11/2/2022| Vistara|     UK|     817| 4:05:00PM|2024-06-04 16:05:00|Delhi|    19h20m|  1-stop|11:25:00AM|2024-06-04 11:25:00|Mumbai|59,996|\n",
      "+---------+--------+-------+--------+----------+-------------------+-----+----------+--------+----------+-------------------+------+------+\n",
      "only showing top 20 rows\n",
      "\n"
     ]
    }
   ],
   "source": [
    "df1 = spark.read.format(\"csv\")\\\n",
    "    .option(\"header\", \"true\")\\\n",
    "    .option(\"inferSchema\", \"true\")\\\n",
    "    .load(\"/home/godwolf/Downloads/flightprice/business.csv\")\n",
    "\n",
    "df1.show()"
   ]
  },
  {
   "cell_type": "code",
   "execution_count": 4,
   "id": "1f57f99d",
   "metadata": {},
   "outputs": [
    {
     "name": "stdout",
     "output_type": "stream",
     "text": [
      "+---------+--------+-------+--------+-------------------+-----+----------+--------+-------------------+------+------+\n",
      "|     date| airline|ch_code|num_code|           dep_time| from|time_taken|    stop|           arr_time|    to| price|\n",
      "+---------+--------+-------+--------+-------------------+-----+----------+--------+-------------------+------+------+\n",
      "|11/2/2022|AirIndia|     AI|     868|2024-06-04 18:00:00|Delhi|    02h00m|non-stop|2024-06-04 20:00:00|Mumbai|25,612|\n",
      "|11/2/2022|AirIndia|     AI|     624|2024-06-04 19:00:00|Delhi|    02h15m|non-stop|2024-06-04 21:15:00|Mumbai|25,612|\n",
      "|11/2/2022|AirIndia|     AI|     531|2024-06-04 20:00:00|Delhi|    24h45m|  1-stop|2024-06-04 20:45:00|Mumbai|42,220|\n",
      "|11/2/2022|AirIndia|     AI|     839|2024-06-04 21:25:00|Delhi|    26h30m|  1-stop|2024-06-04 23:55:00|Mumbai|44,450|\n",
      "|11/2/2022|AirIndia|     AI|     544|2024-06-04 17:15:00|Delhi|    06h40m|  1-stop|2024-06-04 23:55:00|Mumbai|46,690|\n",
      "|11/2/2022| Vistara|     UK|     985|2024-06-04 19:50:00|Delhi|    02h10m|non-stop|2024-06-04 22:00:00|Mumbai|50,264|\n",
      "|11/2/2022|AirIndia|     AI|     479|2024-06-04 21:15:00|Delhi|    17h45m|  1-stop|2024-06-04 15:00:00|Mumbai|50,669|\n",
      "|11/2/2022|AirIndia|     AI|     473|2024-06-04 18:40:00|Delhi|    22h45m|  1-stop|2024-06-04 17:25:00|Mumbai|51,059|\n",
      "|11/2/2022| Vistara|     UK|     871|2024-06-04 20:35:00|Delhi|    17h55m|  1-stop|2024-06-04 14:30:00|Mumbai|51,731|\n",
      "|11/2/2022| Vistara|     UK|     977|2024-06-04 19:00:00|Delhi|    02h15m|non-stop|2024-06-04 21:15:00|Mumbai|53,288|\n",
      "|11/2/2022|AirIndia|     AI|     504|2024-06-04 21:35:00|Delhi|    11h00m|  1-stop|2024-06-04 08:35:00|Mumbai|56,081|\n",
      "|11/2/2022|AirIndia|     AI|     807|2024-06-04 17:20:00|Delhi|    15h15m|  1-stop|2024-06-04 08:35:00|Mumbai|56,081|\n",
      "|11/2/2022|AirIndia|     AI|     540|2024-06-04 20:40:00|Delhi|    11h25m|  1-stop|2024-06-04 08:05:00|Mumbai|57,074|\n",
      "|11/2/2022|AirIndia|     AI|     537|2024-06-04 16:15:00|Delhi|    15h50m|  1-stop|2024-06-04 08:05:00|Mumbai|57,074|\n",
      "|11/2/2022|AirIndia|     AI|     540|2024-06-04 20:40:00|Delhi|    21h35m|  1-stop|2024-06-04 18:15:00|Mumbai|57,074|\n",
      "|11/2/2022|AirIndia|     AI|     537|2024-06-04 16:15:00|Delhi|    26h00m|  1-stop|2024-06-04 18:15:00|Mumbai|57,074|\n",
      "|11/2/2022| Vistara|     UK|     817|2024-06-04 16:05:00|Delhi|    05h45m|  1-stop|2024-06-04 21:50:00|Mumbai|57,868|\n",
      "|11/2/2022| Vistara|     UK|     817|2024-06-04 16:05:00|Delhi|    16h10m|  1-stop|2024-06-04 08:15:00|Mumbai|57,868|\n",
      "|11/2/2022| Vistara|     UK|     817|2024-06-04 16:05:00|Delhi|    28h10m|  1-stop|2024-06-04 20:15:00|Mumbai|57,868|\n",
      "|11/2/2022| Vistara|     UK|     817|2024-06-04 16:05:00|Delhi|    19h20m|  1-stop|2024-06-04 11:25:00|Mumbai|59,996|\n",
      "+---------+--------+-------+--------+-------------------+-----+----------+--------+-------------------+------+------+\n",
      "only showing top 20 rows\n",
      "\n"
     ]
    }
   ],
   "source": [
    "df1 = df1.drop(\"dep_time_1\").drop(\"arr_time_1\")\n",
    "df1 = df1.na.drop()\n",
    "df1.show()"
   ]
  },
  {
   "cell_type": "code",
   "execution_count": 5,
   "id": "4336b694",
   "metadata": {
    "scrolled": true
   },
   "outputs": [
    {
     "name": "stderr",
     "output_type": "stream",
     "text": [
      "                                                                                \r"
     ]
    },
    {
     "data": {
      "text/plain": [
       "93487"
      ]
     },
     "execution_count": 5,
     "metadata": {},
     "output_type": "execute_result"
    }
   ],
   "source": [
    "df1.cache()\n",
    "df1.count()"
   ]
  },
  {
   "cell_type": "code",
   "execution_count": 6,
   "id": "0caafef0",
   "metadata": {
    "scrolled": true
   },
   "outputs": [
    {
     "name": "stderr",
     "output_type": "stream",
     "text": [
      "                                                                                \r"
     ]
    },
    {
     "name": "stdout",
     "output_type": "stream",
     "text": [
      "+---------+---------+-------+--------+-------------------+-----+----------+---------+-------------------+------+-----+\n",
      "|     date|  airline|ch_code|num_code|           dep_time| from|time_taken|     stop|           arr_time|    to|price|\n",
      "+---------+---------+-------+--------+-------------------+-----+----------+---------+-------------------+------+-----+\n",
      "|11/2/2022| SpiceJet|     SG|    8709|2024-06-04 18:55:00|Delhi|   02h 10m|non-stop |2024-06-04 21:05:00|Mumbai|5,953|\n",
      "|11/2/2022| SpiceJet|     SG|    8157|2024-06-04 06:20:00|Delhi|   02h 20m|non-stop |2024-06-04 08:40:00|Mumbai|5,953|\n",
      "|11/2/2022|  AirAsia|     I5|     764|2024-06-04 04:25:00|Delhi|   02h 10m|non-stop |2024-06-04 06:35:00|Mumbai|5,956|\n",
      "|11/2/2022|  Vistara|     UK|     995|2024-06-04 10:20:00|Delhi|   02h 15m|non-stop |2024-06-04 12:35:00|Mumbai|5,955|\n",
      "|11/2/2022|  Vistara|     UK|     963|2024-06-04 08:50:00|Delhi|   02h 20m|non-stop |2024-06-04 11:10:00|Mumbai|5,955|\n",
      "|11/2/2022|  Vistara|     UK|     945|2024-06-04 11:40:00|Delhi|   02h 20m|non-stop |2024-06-04 14:00:00|Mumbai|5,955|\n",
      "|11/2/2022|  Vistara|     UK|     927|2024-06-04 09:30:00|Delhi|   02h 05m|non-stop |2024-06-04 11:35:00|Mumbai|6,060|\n",
      "|11/2/2022|  Vistara|     UK|     951|2024-06-04 14:20:00|Delhi|   02h 10m|non-stop |2024-06-04 16:30:00|Mumbai|6,060|\n",
      "|11/2/2022| GO FIRST|     G8|     334|2024-06-04 08:00:00|Delhi|   02h 10m|non-stop |2024-06-04 10:10:00|Mumbai|5,954|\n",
      "|11/2/2022| GO FIRST|     G8|     336|2024-06-04 14:20:00|Delhi|   02h 15m|non-stop |2024-06-04 16:35:00|Mumbai|5,954|\n",
      "|11/2/2022| GO FIRST|     G8|     392|2024-06-04 15:00:00|Delhi|   02h 15m|non-stop |2024-06-04 17:15:00|Mumbai|5,954|\n",
      "|11/2/2022| GO FIRST|     G8|     338|2024-06-04 10:30:00|Delhi|   02h 20m|non-stop |2024-06-04 12:50:00|Mumbai|5,954|\n",
      "|11/2/2022|   Indigo|     6E|    5001|2024-06-04 07:15:00|Delhi|   02h 10m|non-stop |2024-06-04 09:25:00|Mumbai|5,955|\n",
      "|11/2/2022|   Indigo|     6E|    6202|2024-06-04 12:00:00|Delhi|   02h 10m|non-stop |2024-06-04 14:10:00|Mumbai|5,955|\n",
      "|11/2/2022|   Indigo|     6E|     549|2024-06-04 14:20:00|Delhi|   02h 15m|non-stop |2024-06-04 16:35:00|Mumbai|5,955|\n",
      "|11/2/2022|   Indigo|     6E|    6278|2024-06-04 08:45:00|Delhi|   02h 20m|non-stop |2024-06-04 11:05:00|Mumbai|5,955|\n",
      "|11/2/2022|Air India|     AI|     887|2024-06-04 07:00:00|Delhi|   02h 05m|non-stop |2024-06-04 09:05:00|Mumbai|5,955|\n",
      "|11/2/2022|Air India|     AI|     665|2024-06-04 08:00:00|Delhi|   02h 10m|non-stop |2024-06-04 10:10:00|Mumbai|5,955|\n",
      "|11/2/2022|  AirAsia|     I5|     747|2024-06-04 19:00:00|Delhi|   12h 15m|   1-stop|2024-06-04 07:15:00|Mumbai|5,949|\n",
      "|11/2/2022|  AirAsia|     I5|     747|2024-06-04 19:00:00|Delhi|   16h 20m|   1-stop|2024-06-04 11:20:00|Mumbai|5,949|\n",
      "+---------+---------+-------+--------+-------------------+-----+----------+---------+-------------------+------+-----+\n",
      "only showing top 20 rows\n",
      "\n"
     ]
    }
   ],
   "source": [
    "df2 = spark.read.format(\"csv\")\\\n",
    "    .option(\"header\", \"true\")\\\n",
    "    .option(\"inferSchema\", \"true\")\\\n",
    "    .load(\"/home/godwolf/Downloads/flightprice/economy.csv\")\n",
    "\n",
    "df2.show()"
   ]
  },
  {
   "cell_type": "code",
   "execution_count": 7,
   "id": "f5ef6c82",
   "metadata": {},
   "outputs": [
    {
     "name": "stderr",
     "output_type": "stream",
     "text": [
      "                                                                                \r"
     ]
    },
    {
     "data": {
      "text/plain": [
       "206774"
      ]
     },
     "execution_count": 7,
     "metadata": {},
     "output_type": "execute_result"
    }
   ],
   "source": [
    "df2.cache()\n",
    "df2.count()"
   ]
  },
  {
   "cell_type": "markdown",
   "id": "db8b8978",
   "metadata": {},
   "source": [
    "# mo ta 2 tap du lieu"
   ]
  },
  {
   "cell_type": "code",
   "execution_count": 8,
   "id": "b23d83a0",
   "metadata": {},
   "outputs": [
    {
     "data": {
      "text/plain": [
       "DataFrame[date: string, airline: string, ch_code: string, num_code: int, dep_time: timestamp, from: string, time_taken: string, stop: string, arr_time: timestamp, to: string, price: string]"
      ]
     },
     "metadata": {},
     "output_type": "display_data"
    },
    {
     "data": {
      "text/plain": [
       "DataFrame[date: string, airline: string, ch_code: string, num_code: int, dep_time: timestamp, from: string, time_taken: string, stop: string, arr_time: timestamp, to: string, price: string]"
      ]
     },
     "metadata": {},
     "output_type": "display_data"
    },
    {
     "name": "stdout",
     "output_type": "stream",
     "text": [
      "root\n",
      " |-- date: string (nullable = true)\n",
      " |-- airline: string (nullable = true)\n",
      " |-- ch_code: string (nullable = true)\n",
      " |-- num_code: integer (nullable = true)\n",
      " |-- dep_time: timestamp (nullable = true)\n",
      " |-- from: string (nullable = true)\n",
      " |-- time_taken: string (nullable = true)\n",
      " |-- stop: string (nullable = true)\n",
      " |-- arr_time: timestamp (nullable = true)\n",
      " |-- to: string (nullable = true)\n",
      " |-- price: string (nullable = true)\n",
      "\n",
      "root\n",
      " |-- date: string (nullable = true)\n",
      " |-- airline: string (nullable = true)\n",
      " |-- ch_code: string (nullable = true)\n",
      " |-- num_code: integer (nullable = true)\n",
      " |-- dep_time: timestamp (nullable = true)\n",
      " |-- from: string (nullable = true)\n",
      " |-- time_taken: string (nullable = true)\n",
      " |-- stop: string (nullable = true)\n",
      " |-- arr_time: timestamp (nullable = true)\n",
      " |-- to: string (nullable = true)\n",
      " |-- price: string (nullable = true)\n",
      "\n"
     ]
    }
   ],
   "source": [
    "display(df1)\n",
    "display(df2)\n",
    "\n",
    "df1.printSchema()\n",
    "df2.printSchema()"
   ]
  },
  {
   "cell_type": "code",
   "execution_count": 9,
   "id": "852cee0b",
   "metadata": {},
   "outputs": [],
   "source": [
    "# Thêm thuộc tính class vào mỗi bảng với nội dung tương ứng với hạng vé\n",
    "df1 = df1.withColumn(\"class\", lit(\"business\"))\n",
    "df2 = df2.withColumn(\"class\", lit(\"economy\"))"
   ]
  },
  {
   "cell_type": "code",
   "execution_count": 10,
   "id": "716656be",
   "metadata": {},
   "outputs": [],
   "source": [
    "# Nối hai bảng\n",
    "df = df1.union(df2)"
   ]
  },
  {
   "cell_type": "code",
   "execution_count": 11,
   "id": "d62fdec2",
   "metadata": {},
   "outputs": [
    {
     "name": "stdout",
     "output_type": "stream",
     "text": [
      "+---------+--------+-------+--------+-------------------+-----+----------+--------+-------------------+------+------+--------+\n",
      "|     date| airline|ch_code|num_code|           dep_time| from|time_taken|    stop|           arr_time|    to| price|   class|\n",
      "+---------+--------+-------+--------+-------------------+-----+----------+--------+-------------------+------+------+--------+\n",
      "|11/2/2022|AirIndia|     AI|     868|2024-06-04 18:00:00|Delhi|    02h00m|non-stop|2024-06-04 20:00:00|Mumbai|25,612|business|\n",
      "|11/2/2022|AirIndia|     AI|     624|2024-06-04 19:00:00|Delhi|    02h15m|non-stop|2024-06-04 21:15:00|Mumbai|25,612|business|\n",
      "|11/2/2022|AirIndia|     AI|     531|2024-06-04 20:00:00|Delhi|    24h45m|  1-stop|2024-06-04 20:45:00|Mumbai|42,220|business|\n",
      "|11/2/2022|AirIndia|     AI|     839|2024-06-04 21:25:00|Delhi|    26h30m|  1-stop|2024-06-04 23:55:00|Mumbai|44,450|business|\n",
      "|11/2/2022|AirIndia|     AI|     544|2024-06-04 17:15:00|Delhi|    06h40m|  1-stop|2024-06-04 23:55:00|Mumbai|46,690|business|\n",
      "|11/2/2022| Vistara|     UK|     985|2024-06-04 19:50:00|Delhi|    02h10m|non-stop|2024-06-04 22:00:00|Mumbai|50,264|business|\n",
      "|11/2/2022|AirIndia|     AI|     479|2024-06-04 21:15:00|Delhi|    17h45m|  1-stop|2024-06-04 15:00:00|Mumbai|50,669|business|\n",
      "|11/2/2022|AirIndia|     AI|     473|2024-06-04 18:40:00|Delhi|    22h45m|  1-stop|2024-06-04 17:25:00|Mumbai|51,059|business|\n",
      "|11/2/2022| Vistara|     UK|     871|2024-06-04 20:35:00|Delhi|    17h55m|  1-stop|2024-06-04 14:30:00|Mumbai|51,731|business|\n",
      "|11/2/2022| Vistara|     UK|     977|2024-06-04 19:00:00|Delhi|    02h15m|non-stop|2024-06-04 21:15:00|Mumbai|53,288|business|\n",
      "|11/2/2022|AirIndia|     AI|     504|2024-06-04 21:35:00|Delhi|    11h00m|  1-stop|2024-06-04 08:35:00|Mumbai|56,081|business|\n",
      "|11/2/2022|AirIndia|     AI|     807|2024-06-04 17:20:00|Delhi|    15h15m|  1-stop|2024-06-04 08:35:00|Mumbai|56,081|business|\n",
      "|11/2/2022|AirIndia|     AI|     540|2024-06-04 20:40:00|Delhi|    11h25m|  1-stop|2024-06-04 08:05:00|Mumbai|57,074|business|\n",
      "|11/2/2022|AirIndia|     AI|     537|2024-06-04 16:15:00|Delhi|    15h50m|  1-stop|2024-06-04 08:05:00|Mumbai|57,074|business|\n",
      "|11/2/2022|AirIndia|     AI|     540|2024-06-04 20:40:00|Delhi|    21h35m|  1-stop|2024-06-04 18:15:00|Mumbai|57,074|business|\n",
      "|11/2/2022|AirIndia|     AI|     537|2024-06-04 16:15:00|Delhi|    26h00m|  1-stop|2024-06-04 18:15:00|Mumbai|57,074|business|\n",
      "|11/2/2022| Vistara|     UK|     817|2024-06-04 16:05:00|Delhi|    05h45m|  1-stop|2024-06-04 21:50:00|Mumbai|57,868|business|\n",
      "|11/2/2022| Vistara|     UK|     817|2024-06-04 16:05:00|Delhi|    16h10m|  1-stop|2024-06-04 08:15:00|Mumbai|57,868|business|\n",
      "|11/2/2022| Vistara|     UK|     817|2024-06-04 16:05:00|Delhi|    28h10m|  1-stop|2024-06-04 20:15:00|Mumbai|57,868|business|\n",
      "|11/2/2022| Vistara|     UK|     817|2024-06-04 16:05:00|Delhi|    19h20m|  1-stop|2024-06-04 11:25:00|Mumbai|59,996|business|\n",
      "+---------+--------+-------+--------+-------------------+-----+----------+--------+-------------------+------+------+--------+\n",
      "only showing top 20 rows\n",
      "\n"
     ]
    }
   ],
   "source": [
    "df.show()"
   ]
  },
  {
   "cell_type": "code",
   "execution_count": 12,
   "id": "01c7f46a",
   "metadata": {},
   "outputs": [
    {
     "data": {
      "text/plain": [
       "300261"
      ]
     },
     "execution_count": 12,
     "metadata": {},
     "output_type": "execute_result"
    }
   ],
   "source": [
    "df.count()"
   ]
  },
  {
   "cell_type": "markdown",
   "id": "e6de6de4",
   "metadata": {},
   "source": [
    "# xu ly du lieu"
   ]
  },
  {
   "cell_type": "code",
   "execution_count": 13,
   "id": "e6b3b20b",
   "metadata": {},
   "outputs": [],
   "source": [
    "# Dùng cast để chuyển đổi cột \"num_code\" sang kiểu chuỗi\n",
    "df = df.withColumn(\"num_code\", df[\"num_code\"].cast(\"string\"))"
   ]
  },
  {
   "cell_type": "code",
   "execution_count": 14,
   "id": "3266c68c",
   "metadata": {},
   "outputs": [],
   "source": [
    "# Tạo cột mới \"flightID\" bằng cách kết hợp \"ch_code\" và \"num_code\"\n",
    "df = df.withColumn(\"flightID\", concat(col(\"ch_code\"), lit(\"-\"), col(\"num_code\")))\n",
    "\n",
    "# Sau khi kết hợp xong thì loại bỏ cột \"ch_code\" và \"num_code\"\n",
    "df = df.drop(\"ch_code\").drop(\"num_code\")"
   ]
  },
  {
   "cell_type": "code",
   "execution_count": 15,
   "id": "58c5e06d",
   "metadata": {},
   "outputs": [
    {
     "name": "stdout",
     "output_type": "stream",
     "text": [
      "+---------+--------+-------------------+-----+----------+--------+-------------------+------+------+--------+--------+\n",
      "|     date| airline|           dep_time| from|time_taken|    stop|           arr_time|    to| price|   class|flightID|\n",
      "+---------+--------+-------------------+-----+----------+--------+-------------------+------+------+--------+--------+\n",
      "|11/2/2022|AirIndia|2024-06-04 18:00:00|Delhi|    02h00m|non-stop|2024-06-04 20:00:00|Mumbai|25,612|business|  AI-868|\n",
      "|11/2/2022|AirIndia|2024-06-04 19:00:00|Delhi|    02h15m|non-stop|2024-06-04 21:15:00|Mumbai|25,612|business|  AI-624|\n",
      "|11/2/2022|AirIndia|2024-06-04 20:00:00|Delhi|    24h45m|  1-stop|2024-06-04 20:45:00|Mumbai|42,220|business|  AI-531|\n",
      "|11/2/2022|AirIndia|2024-06-04 21:25:00|Delhi|    26h30m|  1-stop|2024-06-04 23:55:00|Mumbai|44,450|business|  AI-839|\n",
      "|11/2/2022|AirIndia|2024-06-04 17:15:00|Delhi|    06h40m|  1-stop|2024-06-04 23:55:00|Mumbai|46,690|business|  AI-544|\n",
      "|11/2/2022| Vistara|2024-06-04 19:50:00|Delhi|    02h10m|non-stop|2024-06-04 22:00:00|Mumbai|50,264|business|  UK-985|\n",
      "|11/2/2022|AirIndia|2024-06-04 21:15:00|Delhi|    17h45m|  1-stop|2024-06-04 15:00:00|Mumbai|50,669|business|  AI-479|\n",
      "|11/2/2022|AirIndia|2024-06-04 18:40:00|Delhi|    22h45m|  1-stop|2024-06-04 17:25:00|Mumbai|51,059|business|  AI-473|\n",
      "|11/2/2022| Vistara|2024-06-04 20:35:00|Delhi|    17h55m|  1-stop|2024-06-04 14:30:00|Mumbai|51,731|business|  UK-871|\n",
      "|11/2/2022| Vistara|2024-06-04 19:00:00|Delhi|    02h15m|non-stop|2024-06-04 21:15:00|Mumbai|53,288|business|  UK-977|\n",
      "|11/2/2022|AirIndia|2024-06-04 21:35:00|Delhi|    11h00m|  1-stop|2024-06-04 08:35:00|Mumbai|56,081|business|  AI-504|\n",
      "|11/2/2022|AirIndia|2024-06-04 17:20:00|Delhi|    15h15m|  1-stop|2024-06-04 08:35:00|Mumbai|56,081|business|  AI-807|\n",
      "|11/2/2022|AirIndia|2024-06-04 20:40:00|Delhi|    11h25m|  1-stop|2024-06-04 08:05:00|Mumbai|57,074|business|  AI-540|\n",
      "|11/2/2022|AirIndia|2024-06-04 16:15:00|Delhi|    15h50m|  1-stop|2024-06-04 08:05:00|Mumbai|57,074|business|  AI-537|\n",
      "|11/2/2022|AirIndia|2024-06-04 20:40:00|Delhi|    21h35m|  1-stop|2024-06-04 18:15:00|Mumbai|57,074|business|  AI-540|\n",
      "|11/2/2022|AirIndia|2024-06-04 16:15:00|Delhi|    26h00m|  1-stop|2024-06-04 18:15:00|Mumbai|57,074|business|  AI-537|\n",
      "|11/2/2022| Vistara|2024-06-04 16:05:00|Delhi|    05h45m|  1-stop|2024-06-04 21:50:00|Mumbai|57,868|business|  UK-817|\n",
      "|11/2/2022| Vistara|2024-06-04 16:05:00|Delhi|    16h10m|  1-stop|2024-06-04 08:15:00|Mumbai|57,868|business|  UK-817|\n",
      "|11/2/2022| Vistara|2024-06-04 16:05:00|Delhi|    28h10m|  1-stop|2024-06-04 20:15:00|Mumbai|57,868|business|  UK-817|\n",
      "|11/2/2022| Vistara|2024-06-04 16:05:00|Delhi|    19h20m|  1-stop|2024-06-04 11:25:00|Mumbai|59,996|business|  UK-817|\n",
      "+---------+--------+-------------------+-----+----------+--------+-------------------+------+------+--------+--------+\n",
      "only showing top 20 rows\n",
      "\n"
     ]
    }
   ],
   "source": [
    "df.show()"
   ]
  },
  {
   "cell_type": "code",
   "execution_count": 16,
   "id": "2a378801",
   "metadata": {},
   "outputs": [],
   "source": [
    "# Đổi tên các cột để dễ nhận biết hơn\n",
    "df = df.withColumnRenamed(\"dep_time\", \"departure_time\")\\\n",
    "        .withColumnRenamed(\"from\", \"source_city\")\\\n",
    "        .withColumnRenamed(\"time_taken\", \"duration\")\\\n",
    "        .withColumnRenamed(\"stop\", \"stops\")\\\n",
    "        .withColumnRenamed(\"arr_time\", \"arrival_time\")\\\n",
    "        .withColumnRenamed(\"to\", \"destination_city\")"
   ]
  },
  {
   "cell_type": "code",
   "execution_count": 17,
   "id": "04cae2e3",
   "metadata": {
    "scrolled": true
   },
   "outputs": [
    {
     "name": "stdout",
     "output_type": "stream",
     "text": [
      "+---------+--------+-------------------+-----------+--------+--------+-------------------+----------------+------+--------+--------+\n",
      "|     date| airline|     departure_time|source_city|duration|   stops|       arrival_time|destination_city| price|   class|flightID|\n",
      "+---------+--------+-------------------+-----------+--------+--------+-------------------+----------------+------+--------+--------+\n",
      "|11/2/2022|AirIndia|2024-06-04 18:00:00|      Delhi|  02h00m|non-stop|2024-06-04 20:00:00|          Mumbai|25,612|business|  AI-868|\n",
      "|11/2/2022|AirIndia|2024-06-04 19:00:00|      Delhi|  02h15m|non-stop|2024-06-04 21:15:00|          Mumbai|25,612|business|  AI-624|\n",
      "|11/2/2022|AirIndia|2024-06-04 20:00:00|      Delhi|  24h45m|  1-stop|2024-06-04 20:45:00|          Mumbai|42,220|business|  AI-531|\n",
      "|11/2/2022|AirIndia|2024-06-04 21:25:00|      Delhi|  26h30m|  1-stop|2024-06-04 23:55:00|          Mumbai|44,450|business|  AI-839|\n",
      "|11/2/2022|AirIndia|2024-06-04 17:15:00|      Delhi|  06h40m|  1-stop|2024-06-04 23:55:00|          Mumbai|46,690|business|  AI-544|\n",
      "|11/2/2022| Vistara|2024-06-04 19:50:00|      Delhi|  02h10m|non-stop|2024-06-04 22:00:00|          Mumbai|50,264|business|  UK-985|\n",
      "|11/2/2022|AirIndia|2024-06-04 21:15:00|      Delhi|  17h45m|  1-stop|2024-06-04 15:00:00|          Mumbai|50,669|business|  AI-479|\n",
      "|11/2/2022|AirIndia|2024-06-04 18:40:00|      Delhi|  22h45m|  1-stop|2024-06-04 17:25:00|          Mumbai|51,059|business|  AI-473|\n",
      "|11/2/2022| Vistara|2024-06-04 20:35:00|      Delhi|  17h55m|  1-stop|2024-06-04 14:30:00|          Mumbai|51,731|business|  UK-871|\n",
      "|11/2/2022| Vistara|2024-06-04 19:00:00|      Delhi|  02h15m|non-stop|2024-06-04 21:15:00|          Mumbai|53,288|business|  UK-977|\n",
      "|11/2/2022|AirIndia|2024-06-04 21:35:00|      Delhi|  11h00m|  1-stop|2024-06-04 08:35:00|          Mumbai|56,081|business|  AI-504|\n",
      "|11/2/2022|AirIndia|2024-06-04 17:20:00|      Delhi|  15h15m|  1-stop|2024-06-04 08:35:00|          Mumbai|56,081|business|  AI-807|\n",
      "|11/2/2022|AirIndia|2024-06-04 20:40:00|      Delhi|  11h25m|  1-stop|2024-06-04 08:05:00|          Mumbai|57,074|business|  AI-540|\n",
      "|11/2/2022|AirIndia|2024-06-04 16:15:00|      Delhi|  15h50m|  1-stop|2024-06-04 08:05:00|          Mumbai|57,074|business|  AI-537|\n",
      "|11/2/2022|AirIndia|2024-06-04 20:40:00|      Delhi|  21h35m|  1-stop|2024-06-04 18:15:00|          Mumbai|57,074|business|  AI-540|\n",
      "|11/2/2022|AirIndia|2024-06-04 16:15:00|      Delhi|  26h00m|  1-stop|2024-06-04 18:15:00|          Mumbai|57,074|business|  AI-537|\n",
      "|11/2/2022| Vistara|2024-06-04 16:05:00|      Delhi|  05h45m|  1-stop|2024-06-04 21:50:00|          Mumbai|57,868|business|  UK-817|\n",
      "|11/2/2022| Vistara|2024-06-04 16:05:00|      Delhi|  16h10m|  1-stop|2024-06-04 08:15:00|          Mumbai|57,868|business|  UK-817|\n",
      "|11/2/2022| Vistara|2024-06-04 16:05:00|      Delhi|  28h10m|  1-stop|2024-06-04 20:15:00|          Mumbai|57,868|business|  UK-817|\n",
      "|11/2/2022| Vistara|2024-06-04 16:05:00|      Delhi|  19h20m|  1-stop|2024-06-04 11:25:00|          Mumbai|59,996|business|  UK-817|\n",
      "+---------+--------+-------------------+-----------+--------+--------+-------------------+----------------+------+--------+--------+\n",
      "only showing top 20 rows\n",
      "\n"
     ]
    }
   ],
   "source": [
    "df.show()"
   ]
  },
  {
   "cell_type": "markdown",
   "id": "e15ff028",
   "metadata": {},
   "source": [
    "Hạn sử dụng của vé máy bay"
   ]
  },
  {
   "cell_type": "code",
   "execution_count": 18,
   "id": "3e975aae",
   "metadata": {},
   "outputs": [
    {
     "name": "stdout",
     "output_type": "stream",
     "text": [
      "+---------+--------+-------------------+-----------+--------+--------+-------------------+----------------+------+--------+--------+---+-----+----+\n",
      "|     date| airline|     departure_time|source_city|duration|   stops|       arrival_time|destination_city| price|   class|flightID|day|month|year|\n",
      "+---------+--------+-------------------+-----------+--------+--------+-------------------+----------------+------+--------+--------+---+-----+----+\n",
      "|11/2/2022|AirIndia|2024-06-04 18:00:00|      Delhi|  02h00m|non-stop|2024-06-04 20:00:00|          Mumbai|25,612|business|  AI-868| 11|    2|2022|\n",
      "|11/2/2022|AirIndia|2024-06-04 19:00:00|      Delhi|  02h15m|non-stop|2024-06-04 21:15:00|          Mumbai|25,612|business|  AI-624| 11|    2|2022|\n",
      "|11/2/2022|AirIndia|2024-06-04 20:00:00|      Delhi|  24h45m|  1-stop|2024-06-04 20:45:00|          Mumbai|42,220|business|  AI-531| 11|    2|2022|\n",
      "|11/2/2022|AirIndia|2024-06-04 21:25:00|      Delhi|  26h30m|  1-stop|2024-06-04 23:55:00|          Mumbai|44,450|business|  AI-839| 11|    2|2022|\n",
      "|11/2/2022|AirIndia|2024-06-04 17:15:00|      Delhi|  06h40m|  1-stop|2024-06-04 23:55:00|          Mumbai|46,690|business|  AI-544| 11|    2|2022|\n",
      "|11/2/2022| Vistara|2024-06-04 19:50:00|      Delhi|  02h10m|non-stop|2024-06-04 22:00:00|          Mumbai|50,264|business|  UK-985| 11|    2|2022|\n",
      "|11/2/2022|AirIndia|2024-06-04 21:15:00|      Delhi|  17h45m|  1-stop|2024-06-04 15:00:00|          Mumbai|50,669|business|  AI-479| 11|    2|2022|\n",
      "|11/2/2022|AirIndia|2024-06-04 18:40:00|      Delhi|  22h45m|  1-stop|2024-06-04 17:25:00|          Mumbai|51,059|business|  AI-473| 11|    2|2022|\n",
      "|11/2/2022| Vistara|2024-06-04 20:35:00|      Delhi|  17h55m|  1-stop|2024-06-04 14:30:00|          Mumbai|51,731|business|  UK-871| 11|    2|2022|\n",
      "|11/2/2022| Vistara|2024-06-04 19:00:00|      Delhi|  02h15m|non-stop|2024-06-04 21:15:00|          Mumbai|53,288|business|  UK-977| 11|    2|2022|\n",
      "|11/2/2022|AirIndia|2024-06-04 21:35:00|      Delhi|  11h00m|  1-stop|2024-06-04 08:35:00|          Mumbai|56,081|business|  AI-504| 11|    2|2022|\n",
      "|11/2/2022|AirIndia|2024-06-04 17:20:00|      Delhi|  15h15m|  1-stop|2024-06-04 08:35:00|          Mumbai|56,081|business|  AI-807| 11|    2|2022|\n",
      "|11/2/2022|AirIndia|2024-06-04 20:40:00|      Delhi|  11h25m|  1-stop|2024-06-04 08:05:00|          Mumbai|57,074|business|  AI-540| 11|    2|2022|\n",
      "|11/2/2022|AirIndia|2024-06-04 16:15:00|      Delhi|  15h50m|  1-stop|2024-06-04 08:05:00|          Mumbai|57,074|business|  AI-537| 11|    2|2022|\n",
      "|11/2/2022|AirIndia|2024-06-04 20:40:00|      Delhi|  21h35m|  1-stop|2024-06-04 18:15:00|          Mumbai|57,074|business|  AI-540| 11|    2|2022|\n",
      "|11/2/2022|AirIndia|2024-06-04 16:15:00|      Delhi|  26h00m|  1-stop|2024-06-04 18:15:00|          Mumbai|57,074|business|  AI-537| 11|    2|2022|\n",
      "|11/2/2022| Vistara|2024-06-04 16:05:00|      Delhi|  05h45m|  1-stop|2024-06-04 21:50:00|          Mumbai|57,868|business|  UK-817| 11|    2|2022|\n",
      "|11/2/2022| Vistara|2024-06-04 16:05:00|      Delhi|  16h10m|  1-stop|2024-06-04 08:15:00|          Mumbai|57,868|business|  UK-817| 11|    2|2022|\n",
      "|11/2/2022| Vistara|2024-06-04 16:05:00|      Delhi|  28h10m|  1-stop|2024-06-04 20:15:00|          Mumbai|57,868|business|  UK-817| 11|    2|2022|\n",
      "|11/2/2022| Vistara|2024-06-04 16:05:00|      Delhi|  19h20m|  1-stop|2024-06-04 11:25:00|          Mumbai|59,996|business|  UK-817| 11|    2|2022|\n",
      "+---------+--------+-------------------+-----------+--------+--------+-------------------+----------------+------+--------+--------+---+-----+----+\n",
      "only showing top 20 rows\n",
      "\n"
     ]
    }
   ],
   "source": [
    "# Chia cột \"date\" thành 3 cột \"day\", \"month\", \"year\" để tính toán dayleft\n",
    "df = df.withColumn(\"day\", split(col(\"date\"), \"/\")[0].cast(\"int\"))\n",
    "df = df.withColumn(\"month\", split(col(\"date\"), \"/\")[1].cast(\"int\"))\n",
    "df = df.withColumn(\"year\", split(col(\"date\"), \"/\")[2].cast(\"int\"))\n",
    "\n",
    "df.show()"
   ]
  },
  {
   "cell_type": "code",
   "execution_count": 19,
   "id": "9d603b84",
   "metadata": {},
   "outputs": [
    {
     "name": "stdout",
     "output_type": "stream",
     "text": [
      "+---------+--------+-------------------+-----------+--------+--------+-------------------+----------------+------+--------+--------+---+-----+----+---------+\n",
      "|     date| airline|     departure_time|source_city|duration|   stops|       arrival_time|destination_city| price|   class|flightID|day|month|year|days_left|\n",
      "+---------+--------+-------------------+-----------+--------+--------+-------------------+----------------+------+--------+--------+---+-----+----+---------+\n",
      "|11/2/2022|AirIndia|2024-06-04 18:00:00|      Delhi|  02h00m|non-stop|2024-06-04 20:00:00|          Mumbai|25,612|business|  AI-868| 11|    2|2022|        1|\n",
      "|11/2/2022|AirIndia|2024-06-04 19:00:00|      Delhi|  02h15m|non-stop|2024-06-04 21:15:00|          Mumbai|25,612|business|  AI-624| 11|    2|2022|        1|\n",
      "|11/2/2022|AirIndia|2024-06-04 20:00:00|      Delhi|  24h45m|  1-stop|2024-06-04 20:45:00|          Mumbai|42,220|business|  AI-531| 11|    2|2022|        1|\n",
      "|11/2/2022|AirIndia|2024-06-04 21:25:00|      Delhi|  26h30m|  1-stop|2024-06-04 23:55:00|          Mumbai|44,450|business|  AI-839| 11|    2|2022|        1|\n",
      "|11/2/2022|AirIndia|2024-06-04 17:15:00|      Delhi|  06h40m|  1-stop|2024-06-04 23:55:00|          Mumbai|46,690|business|  AI-544| 11|    2|2022|        1|\n",
      "|11/2/2022| Vistara|2024-06-04 19:50:00|      Delhi|  02h10m|non-stop|2024-06-04 22:00:00|          Mumbai|50,264|business|  UK-985| 11|    2|2022|        1|\n",
      "|11/2/2022|AirIndia|2024-06-04 21:15:00|      Delhi|  17h45m|  1-stop|2024-06-04 15:00:00|          Mumbai|50,669|business|  AI-479| 11|    2|2022|        1|\n",
      "|11/2/2022|AirIndia|2024-06-04 18:40:00|      Delhi|  22h45m|  1-stop|2024-06-04 17:25:00|          Mumbai|51,059|business|  AI-473| 11|    2|2022|        1|\n",
      "|11/2/2022| Vistara|2024-06-04 20:35:00|      Delhi|  17h55m|  1-stop|2024-06-04 14:30:00|          Mumbai|51,731|business|  UK-871| 11|    2|2022|        1|\n",
      "|11/2/2022| Vistara|2024-06-04 19:00:00|      Delhi|  02h15m|non-stop|2024-06-04 21:15:00|          Mumbai|53,288|business|  UK-977| 11|    2|2022|        1|\n",
      "|11/2/2022|AirIndia|2024-06-04 21:35:00|      Delhi|  11h00m|  1-stop|2024-06-04 08:35:00|          Mumbai|56,081|business|  AI-504| 11|    2|2022|        1|\n",
      "|11/2/2022|AirIndia|2024-06-04 17:20:00|      Delhi|  15h15m|  1-stop|2024-06-04 08:35:00|          Mumbai|56,081|business|  AI-807| 11|    2|2022|        1|\n",
      "|11/2/2022|AirIndia|2024-06-04 20:40:00|      Delhi|  11h25m|  1-stop|2024-06-04 08:05:00|          Mumbai|57,074|business|  AI-540| 11|    2|2022|        1|\n",
      "|11/2/2022|AirIndia|2024-06-04 16:15:00|      Delhi|  15h50m|  1-stop|2024-06-04 08:05:00|          Mumbai|57,074|business|  AI-537| 11|    2|2022|        1|\n",
      "|11/2/2022|AirIndia|2024-06-04 20:40:00|      Delhi|  21h35m|  1-stop|2024-06-04 18:15:00|          Mumbai|57,074|business|  AI-540| 11|    2|2022|        1|\n",
      "|11/2/2022|AirIndia|2024-06-04 16:15:00|      Delhi|  26h00m|  1-stop|2024-06-04 18:15:00|          Mumbai|57,074|business|  AI-537| 11|    2|2022|        1|\n",
      "|11/2/2022| Vistara|2024-06-04 16:05:00|      Delhi|  05h45m|  1-stop|2024-06-04 21:50:00|          Mumbai|57,868|business|  UK-817| 11|    2|2022|        1|\n",
      "|11/2/2022| Vistara|2024-06-04 16:05:00|      Delhi|  16h10m|  1-stop|2024-06-04 08:15:00|          Mumbai|57,868|business|  UK-817| 11|    2|2022|        1|\n",
      "|11/2/2022| Vistara|2024-06-04 16:05:00|      Delhi|  28h10m|  1-stop|2024-06-04 20:15:00|          Mumbai|57,868|business|  UK-817| 11|    2|2022|        1|\n",
      "|11/2/2022| Vistara|2024-06-04 16:05:00|      Delhi|  19h20m|  1-stop|2024-06-04 11:25:00|          Mumbai|59,996|business|  UK-817| 11|    2|2022|        1|\n",
      "+---------+--------+-------------------+-----------+--------+--------+-------------------+----------------+------+--------+--------+---+-----+----+---------+\n",
      "only showing top 20 rows\n",
      "\n"
     ]
    }
   ],
   "source": [
    "# Tính toán cột mới dayleft  \n",
    "# Tháng 3 thì số ngày còn lại của vé sẽ sẽ bằng ngày hiện tại cộng thêm 18\n",
    "# Tháng 2 thì số ngày còn lại của vé sẽ sẽ bằng ngày hiện tại trừ 10 \n",
    "df = df.withColumn(\"days_left\", when(col(\"month\") > 2, col(\"day\") + 18)\n",
    "        .when(col(\"month\") == 2, col(\"day\") - 10)\n",
    "        .otherwise(col(\"day\")))\n",
    "\n",
    "df.show()"
   ]
  },
  {
   "cell_type": "code",
   "execution_count": 20,
   "id": "78915820",
   "metadata": {},
   "outputs": [
    {
     "name": "stdout",
     "output_type": "stream",
     "text": [
      "+---------+--------+-------------------+-----------+--------+--------+-------------------+----------------+------+--------+--------+---------+\n",
      "|     date| airline|     departure_time|source_city|duration|   stops|       arrival_time|destination_city| price|   class|flightID|days_left|\n",
      "+---------+--------+-------------------+-----------+--------+--------+-------------------+----------------+------+--------+--------+---------+\n",
      "|11/2/2022|AirIndia|2024-06-04 18:00:00|      Delhi|  02h00m|non-stop|2024-06-04 20:00:00|          Mumbai|25,612|business|  AI-868|        1|\n",
      "|11/2/2022|AirIndia|2024-06-04 19:00:00|      Delhi|  02h15m|non-stop|2024-06-04 21:15:00|          Mumbai|25,612|business|  AI-624|        1|\n",
      "|11/2/2022|AirIndia|2024-06-04 20:00:00|      Delhi|  24h45m|  1-stop|2024-06-04 20:45:00|          Mumbai|42,220|business|  AI-531|        1|\n",
      "|11/2/2022|AirIndia|2024-06-04 21:25:00|      Delhi|  26h30m|  1-stop|2024-06-04 23:55:00|          Mumbai|44,450|business|  AI-839|        1|\n",
      "|11/2/2022|AirIndia|2024-06-04 17:15:00|      Delhi|  06h40m|  1-stop|2024-06-04 23:55:00|          Mumbai|46,690|business|  AI-544|        1|\n",
      "|11/2/2022| Vistara|2024-06-04 19:50:00|      Delhi|  02h10m|non-stop|2024-06-04 22:00:00|          Mumbai|50,264|business|  UK-985|        1|\n",
      "|11/2/2022|AirIndia|2024-06-04 21:15:00|      Delhi|  17h45m|  1-stop|2024-06-04 15:00:00|          Mumbai|50,669|business|  AI-479|        1|\n",
      "|11/2/2022|AirIndia|2024-06-04 18:40:00|      Delhi|  22h45m|  1-stop|2024-06-04 17:25:00|          Mumbai|51,059|business|  AI-473|        1|\n",
      "|11/2/2022| Vistara|2024-06-04 20:35:00|      Delhi|  17h55m|  1-stop|2024-06-04 14:30:00|          Mumbai|51,731|business|  UK-871|        1|\n",
      "|11/2/2022| Vistara|2024-06-04 19:00:00|      Delhi|  02h15m|non-stop|2024-06-04 21:15:00|          Mumbai|53,288|business|  UK-977|        1|\n",
      "|11/2/2022|AirIndia|2024-06-04 21:35:00|      Delhi|  11h00m|  1-stop|2024-06-04 08:35:00|          Mumbai|56,081|business|  AI-504|        1|\n",
      "|11/2/2022|AirIndia|2024-06-04 17:20:00|      Delhi|  15h15m|  1-stop|2024-06-04 08:35:00|          Mumbai|56,081|business|  AI-807|        1|\n",
      "|11/2/2022|AirIndia|2024-06-04 20:40:00|      Delhi|  11h25m|  1-stop|2024-06-04 08:05:00|          Mumbai|57,074|business|  AI-540|        1|\n",
      "|11/2/2022|AirIndia|2024-06-04 16:15:00|      Delhi|  15h50m|  1-stop|2024-06-04 08:05:00|          Mumbai|57,074|business|  AI-537|        1|\n",
      "|11/2/2022|AirIndia|2024-06-04 20:40:00|      Delhi|  21h35m|  1-stop|2024-06-04 18:15:00|          Mumbai|57,074|business|  AI-540|        1|\n",
      "|11/2/2022|AirIndia|2024-06-04 16:15:00|      Delhi|  26h00m|  1-stop|2024-06-04 18:15:00|          Mumbai|57,074|business|  AI-537|        1|\n",
      "|11/2/2022| Vistara|2024-06-04 16:05:00|      Delhi|  05h45m|  1-stop|2024-06-04 21:50:00|          Mumbai|57,868|business|  UK-817|        1|\n",
      "|11/2/2022| Vistara|2024-06-04 16:05:00|      Delhi|  16h10m|  1-stop|2024-06-04 08:15:00|          Mumbai|57,868|business|  UK-817|        1|\n",
      "|11/2/2022| Vistara|2024-06-04 16:05:00|      Delhi|  28h10m|  1-stop|2024-06-04 20:15:00|          Mumbai|57,868|business|  UK-817|        1|\n",
      "|11/2/2022| Vistara|2024-06-04 16:05:00|      Delhi|  19h20m|  1-stop|2024-06-04 11:25:00|          Mumbai|59,996|business|  UK-817|        1|\n",
      "+---------+--------+-------------------+-----------+--------+--------+-------------------+----------------+------+--------+--------+---------+\n",
      "only showing top 20 rows\n",
      "\n"
     ]
    }
   ],
   "source": [
    "# Sau khi xử lí xong thì xóa các cột không cần \n",
    "df = df.drop(\"day\")\n",
    "df = df.drop(\"month\")\n",
    "df = df.drop(\"year\")\n",
    "\n",
    "df.show()"
   ]
  },
  {
   "cell_type": "markdown",
   "id": "7413606f",
   "metadata": {},
   "source": [
    "Chuyển đổi thời gian ở các cột \"departure_time\" \"arrival_time\" thành các buổi trong ngày"
   ]
  },
  {
   "cell_type": "code",
   "execution_count": 21,
   "id": "5dabe98c",
   "metadata": {},
   "outputs": [
    {
     "name": "stdout",
     "output_type": "stream",
     "text": [
      "+---------+--------+-------------------+-----------+--------+--------+-------------------+----------------+------+--------+--------+---------+-----------+\n",
      "|     date| airline|     departure_time|source_city|duration|   stops|       arrival_time|destination_city| price|   class|flightID|days_left|hour_of_day|\n",
      "+---------+--------+-------------------+-----------+--------+--------+-------------------+----------------+------+--------+--------+---------+-----------+\n",
      "|11/2/2022|AirIndia|2024-06-04 18:00:00|      Delhi|  02h00m|non-stop|2024-06-04 20:00:00|          Mumbai|25,612|business|  AI-868|        1|         18|\n",
      "|11/2/2022|AirIndia|2024-06-04 19:00:00|      Delhi|  02h15m|non-stop|2024-06-04 21:15:00|          Mumbai|25,612|business|  AI-624|        1|         19|\n",
      "|11/2/2022|AirIndia|2024-06-04 20:00:00|      Delhi|  24h45m|  1-stop|2024-06-04 20:45:00|          Mumbai|42,220|business|  AI-531|        1|         20|\n",
      "|11/2/2022|AirIndia|2024-06-04 21:25:00|      Delhi|  26h30m|  1-stop|2024-06-04 23:55:00|          Mumbai|44,450|business|  AI-839|        1|         21|\n",
      "|11/2/2022|AirIndia|2024-06-04 17:15:00|      Delhi|  06h40m|  1-stop|2024-06-04 23:55:00|          Mumbai|46,690|business|  AI-544|        1|         17|\n",
      "|11/2/2022| Vistara|2024-06-04 19:50:00|      Delhi|  02h10m|non-stop|2024-06-04 22:00:00|          Mumbai|50,264|business|  UK-985|        1|         19|\n",
      "|11/2/2022|AirIndia|2024-06-04 21:15:00|      Delhi|  17h45m|  1-stop|2024-06-04 15:00:00|          Mumbai|50,669|business|  AI-479|        1|         21|\n",
      "|11/2/2022|AirIndia|2024-06-04 18:40:00|      Delhi|  22h45m|  1-stop|2024-06-04 17:25:00|          Mumbai|51,059|business|  AI-473|        1|         18|\n",
      "|11/2/2022| Vistara|2024-06-04 20:35:00|      Delhi|  17h55m|  1-stop|2024-06-04 14:30:00|          Mumbai|51,731|business|  UK-871|        1|         20|\n",
      "|11/2/2022| Vistara|2024-06-04 19:00:00|      Delhi|  02h15m|non-stop|2024-06-04 21:15:00|          Mumbai|53,288|business|  UK-977|        1|         19|\n",
      "|11/2/2022|AirIndia|2024-06-04 21:35:00|      Delhi|  11h00m|  1-stop|2024-06-04 08:35:00|          Mumbai|56,081|business|  AI-504|        1|         21|\n",
      "|11/2/2022|AirIndia|2024-06-04 17:20:00|      Delhi|  15h15m|  1-stop|2024-06-04 08:35:00|          Mumbai|56,081|business|  AI-807|        1|         17|\n",
      "|11/2/2022|AirIndia|2024-06-04 20:40:00|      Delhi|  11h25m|  1-stop|2024-06-04 08:05:00|          Mumbai|57,074|business|  AI-540|        1|         20|\n",
      "|11/2/2022|AirIndia|2024-06-04 16:15:00|      Delhi|  15h50m|  1-stop|2024-06-04 08:05:00|          Mumbai|57,074|business|  AI-537|        1|         16|\n",
      "|11/2/2022|AirIndia|2024-06-04 20:40:00|      Delhi|  21h35m|  1-stop|2024-06-04 18:15:00|          Mumbai|57,074|business|  AI-540|        1|         20|\n",
      "|11/2/2022|AirIndia|2024-06-04 16:15:00|      Delhi|  26h00m|  1-stop|2024-06-04 18:15:00|          Mumbai|57,074|business|  AI-537|        1|         16|\n",
      "|11/2/2022| Vistara|2024-06-04 16:05:00|      Delhi|  05h45m|  1-stop|2024-06-04 21:50:00|          Mumbai|57,868|business|  UK-817|        1|         16|\n",
      "|11/2/2022| Vistara|2024-06-04 16:05:00|      Delhi|  16h10m|  1-stop|2024-06-04 08:15:00|          Mumbai|57,868|business|  UK-817|        1|         16|\n",
      "|11/2/2022| Vistara|2024-06-04 16:05:00|      Delhi|  28h10m|  1-stop|2024-06-04 20:15:00|          Mumbai|57,868|business|  UK-817|        1|         16|\n",
      "|11/2/2022| Vistara|2024-06-04 16:05:00|      Delhi|  19h20m|  1-stop|2024-06-04 11:25:00|          Mumbai|59,996|business|  UK-817|        1|         16|\n",
      "+---------+--------+-------------------+-----------+--------+--------+-------------------+----------------+------+--------+--------+---------+-----------+\n",
      "only showing top 20 rows\n",
      "\n"
     ]
    }
   ],
   "source": [
    "# Chuyển đổi cột 'departure_time' sang các giờ tương ứng và lưu giá trị vào cột hour_of_day\n",
    "df = df.withColumn(\"hour_of_day\", hour(\"departure_time\"))\n",
    "\n",
    "df.show()"
   ]
  },
  {
   "cell_type": "code",
   "execution_count": 22,
   "id": "08175e59",
   "metadata": {},
   "outputs": [
    {
     "name": "stdout",
     "output_type": "stream",
     "text": [
      "+---------+--------+--------------+-----------+--------+--------+-------------------+----------------+------+--------+--------+---------+\n",
      "|     date| airline|departure_time|source_city|duration|   stops|       arrival_time|destination_city| price|   class|flightID|days_left|\n",
      "+---------+--------+--------------+-----------+--------+--------+-------------------+----------------+------+--------+--------+---------+\n",
      "|11/2/2022|AirIndia|       Evening|      Delhi|  02h00m|non-stop|2024-06-04 20:00:00|          Mumbai|25,612|business|  AI-868|        1|\n",
      "|11/2/2022|AirIndia|       Evening|      Delhi|  02h15m|non-stop|2024-06-04 21:15:00|          Mumbai|25,612|business|  AI-624|        1|\n",
      "|11/2/2022|AirIndia|    Late Night|      Delhi|  24h45m|  1-stop|2024-06-04 20:45:00|          Mumbai|42,220|business|  AI-531|        1|\n",
      "|11/2/2022|AirIndia|    Late Night|      Delhi|  26h30m|  1-stop|2024-06-04 23:55:00|          Mumbai|44,450|business|  AI-839|        1|\n",
      "|11/2/2022|AirIndia|       Evening|      Delhi|  06h40m|  1-stop|2024-06-04 23:55:00|          Mumbai|46,690|business|  AI-544|        1|\n",
      "|11/2/2022| Vistara|       Evening|      Delhi|  02h10m|non-stop|2024-06-04 22:00:00|          Mumbai|50,264|business|  UK-985|        1|\n",
      "|11/2/2022|AirIndia|    Late Night|      Delhi|  17h45m|  1-stop|2024-06-04 15:00:00|          Mumbai|50,669|business|  AI-479|        1|\n",
      "|11/2/2022|AirIndia|       Evening|      Delhi|  22h45m|  1-stop|2024-06-04 17:25:00|          Mumbai|51,059|business|  AI-473|        1|\n",
      "|11/2/2022| Vistara|    Late Night|      Delhi|  17h55m|  1-stop|2024-06-04 14:30:00|          Mumbai|51,731|business|  UK-871|        1|\n",
      "|11/2/2022| Vistara|       Evening|      Delhi|  02h15m|non-stop|2024-06-04 21:15:00|          Mumbai|53,288|business|  UK-977|        1|\n",
      "|11/2/2022|AirIndia|    Late Night|      Delhi|  11h00m|  1-stop|2024-06-04 08:35:00|          Mumbai|56,081|business|  AI-504|        1|\n",
      "|11/2/2022|AirIndia|       Evening|      Delhi|  15h15m|  1-stop|2024-06-04 08:35:00|          Mumbai|56,081|business|  AI-807|        1|\n",
      "|11/2/2022|AirIndia|    Late Night|      Delhi|  11h25m|  1-stop|2024-06-04 08:05:00|          Mumbai|57,074|business|  AI-540|        1|\n",
      "|11/2/2022|AirIndia|       Evening|      Delhi|  15h50m|  1-stop|2024-06-04 08:05:00|          Mumbai|57,074|business|  AI-537|        1|\n",
      "|11/2/2022|AirIndia|    Late Night|      Delhi|  21h35m|  1-stop|2024-06-04 18:15:00|          Mumbai|57,074|business|  AI-540|        1|\n",
      "|11/2/2022|AirIndia|       Evening|      Delhi|  26h00m|  1-stop|2024-06-04 18:15:00|          Mumbai|57,074|business|  AI-537|        1|\n",
      "|11/2/2022| Vistara|       Evening|      Delhi|  05h45m|  1-stop|2024-06-04 21:50:00|          Mumbai|57,868|business|  UK-817|        1|\n",
      "|11/2/2022| Vistara|       Evening|      Delhi|  16h10m|  1-stop|2024-06-04 08:15:00|          Mumbai|57,868|business|  UK-817|        1|\n",
      "|11/2/2022| Vistara|       Evening|      Delhi|  28h10m|  1-stop|2024-06-04 20:15:00|          Mumbai|57,868|business|  UK-817|        1|\n",
      "|11/2/2022| Vistara|       Evening|      Delhi|  19h20m|  1-stop|2024-06-04 11:25:00|          Mumbai|59,996|business|  UK-817|        1|\n",
      "+---------+--------+--------------+-----------+--------+--------+-------------------+----------------+------+--------+--------+---------+\n",
      "only showing top 20 rows\n",
      "\n"
     ]
    }
   ],
   "source": [
    "# Xác định khoảng thời gian dựa trên giờ và gán nhãn cho mỗi khoảng thời gian trong cột \"departure_time\"\n",
    "df = df.withColumn(\"departure_time\", \n",
    "                   when((df[\"hour_of_day\"] == 0) | (df[\"hour_of_day\"] >= 20), \"Late Night\")\n",
    "                   .when((df[\"hour_of_day\"] >= 4) & (df[\"hour_of_day\"] < 8), \"Early Morning\")\n",
    "                   .when((df[\"hour_of_day\"] >= 8) & (df[\"hour_of_day\"] < 12), \"Morning\")\n",
    "                   .when((df[\"hour_of_day\"] >= 12) & (df[\"hour_of_day\"] < 16), \"Afternoon\")\n",
    "                   .when((df[\"hour_of_day\"] >= 16) & (df[\"hour_of_day\"] < 20), \"Evening\")\n",
    "                   .otherwise(\"Night\")\n",
    "                  )\n",
    "\n",
    "# Sau khi gán nhãn xong thì xóa cột \"hour_of_day\"\n",
    "df = df.drop(\"hour_of_day\")\n",
    "\n",
    "df.show()"
   ]
  },
  {
   "cell_type": "code",
   "execution_count": 23,
   "id": "49fbd875",
   "metadata": {},
   "outputs": [
    {
     "name": "stdout",
     "output_type": "stream",
     "text": [
      "+---------+--------+--------------+-----------+--------+--------+-------------------+----------------+------+--------+--------+---------+-----------+\n",
      "|     date| airline|departure_time|source_city|duration|   stops|       arrival_time|destination_city| price|   class|flightID|days_left|hour_of_day|\n",
      "+---------+--------+--------------+-----------+--------+--------+-------------------+----------------+------+--------+--------+---------+-----------+\n",
      "|11/2/2022|AirIndia|       Evening|      Delhi|  02h00m|non-stop|2024-06-04 20:00:00|          Mumbai|25,612|business|  AI-868|        1|         20|\n",
      "|11/2/2022|AirIndia|       Evening|      Delhi|  02h15m|non-stop|2024-06-04 21:15:00|          Mumbai|25,612|business|  AI-624|        1|         21|\n",
      "|11/2/2022|AirIndia|    Late Night|      Delhi|  24h45m|  1-stop|2024-06-04 20:45:00|          Mumbai|42,220|business|  AI-531|        1|         20|\n",
      "|11/2/2022|AirIndia|    Late Night|      Delhi|  26h30m|  1-stop|2024-06-04 23:55:00|          Mumbai|44,450|business|  AI-839|        1|         23|\n",
      "|11/2/2022|AirIndia|       Evening|      Delhi|  06h40m|  1-stop|2024-06-04 23:55:00|          Mumbai|46,690|business|  AI-544|        1|         23|\n",
      "|11/2/2022| Vistara|       Evening|      Delhi|  02h10m|non-stop|2024-06-04 22:00:00|          Mumbai|50,264|business|  UK-985|        1|         22|\n",
      "|11/2/2022|AirIndia|    Late Night|      Delhi|  17h45m|  1-stop|2024-06-04 15:00:00|          Mumbai|50,669|business|  AI-479|        1|         15|\n",
      "|11/2/2022|AirIndia|       Evening|      Delhi|  22h45m|  1-stop|2024-06-04 17:25:00|          Mumbai|51,059|business|  AI-473|        1|         17|\n",
      "|11/2/2022| Vistara|    Late Night|      Delhi|  17h55m|  1-stop|2024-06-04 14:30:00|          Mumbai|51,731|business|  UK-871|        1|         14|\n",
      "|11/2/2022| Vistara|       Evening|      Delhi|  02h15m|non-stop|2024-06-04 21:15:00|          Mumbai|53,288|business|  UK-977|        1|         21|\n",
      "|11/2/2022|AirIndia|    Late Night|      Delhi|  11h00m|  1-stop|2024-06-04 08:35:00|          Mumbai|56,081|business|  AI-504|        1|          8|\n",
      "|11/2/2022|AirIndia|       Evening|      Delhi|  15h15m|  1-stop|2024-06-04 08:35:00|          Mumbai|56,081|business|  AI-807|        1|          8|\n",
      "|11/2/2022|AirIndia|    Late Night|      Delhi|  11h25m|  1-stop|2024-06-04 08:05:00|          Mumbai|57,074|business|  AI-540|        1|          8|\n",
      "|11/2/2022|AirIndia|       Evening|      Delhi|  15h50m|  1-stop|2024-06-04 08:05:00|          Mumbai|57,074|business|  AI-537|        1|          8|\n",
      "|11/2/2022|AirIndia|    Late Night|      Delhi|  21h35m|  1-stop|2024-06-04 18:15:00|          Mumbai|57,074|business|  AI-540|        1|         18|\n",
      "|11/2/2022|AirIndia|       Evening|      Delhi|  26h00m|  1-stop|2024-06-04 18:15:00|          Mumbai|57,074|business|  AI-537|        1|         18|\n",
      "|11/2/2022| Vistara|       Evening|      Delhi|  05h45m|  1-stop|2024-06-04 21:50:00|          Mumbai|57,868|business|  UK-817|        1|         21|\n",
      "|11/2/2022| Vistara|       Evening|      Delhi|  16h10m|  1-stop|2024-06-04 08:15:00|          Mumbai|57,868|business|  UK-817|        1|          8|\n",
      "|11/2/2022| Vistara|       Evening|      Delhi|  28h10m|  1-stop|2024-06-04 20:15:00|          Mumbai|57,868|business|  UK-817|        1|         20|\n",
      "|11/2/2022| Vistara|       Evening|      Delhi|  19h20m|  1-stop|2024-06-04 11:25:00|          Mumbai|59,996|business|  UK-817|        1|         11|\n",
      "+---------+--------+--------------+-----------+--------+--------+-------------------+----------------+------+--------+--------+---------+-----------+\n",
      "only showing top 20 rows\n",
      "\n"
     ]
    }
   ],
   "source": [
    "# Chuyển đổi cột 'arrival_time' sang các giờ tương ứng và lưu giá trị vào cột hour_of_day\n",
    "df = df.withColumn(\"hour_of_day\", hour(\"arrival_time\"))\n",
    "\n",
    "df.show()"
   ]
  },
  {
   "cell_type": "code",
   "execution_count": 24,
   "id": "29e494c1",
   "metadata": {},
   "outputs": [
    {
     "name": "stdout",
     "output_type": "stream",
     "text": [
      "+---------+--------+--------------+-----------+--------+--------+------------+----------------+------+--------+--------+---------+\n",
      "|     date| airline|departure_time|source_city|duration|   stops|arrival_time|destination_city| price|   class|flightID|days_left|\n",
      "+---------+--------+--------------+-----------+--------+--------+------------+----------------+------+--------+--------+---------+\n",
      "|11/2/2022|AirIndia|       Evening|      Delhi|  02h00m|non-stop|  Late Night|          Mumbai|25,612|business|  AI-868|        1|\n",
      "|11/2/2022|AirIndia|       Evening|      Delhi|  02h15m|non-stop|  Late Night|          Mumbai|25,612|business|  AI-624|        1|\n",
      "|11/2/2022|AirIndia|    Late Night|      Delhi|  24h45m|  1-stop|  Late Night|          Mumbai|42,220|business|  AI-531|        1|\n",
      "|11/2/2022|AirIndia|    Late Night|      Delhi|  26h30m|  1-stop|  Late Night|          Mumbai|44,450|business|  AI-839|        1|\n",
      "|11/2/2022|AirIndia|       Evening|      Delhi|  06h40m|  1-stop|  Late Night|          Mumbai|46,690|business|  AI-544|        1|\n",
      "|11/2/2022| Vistara|       Evening|      Delhi|  02h10m|non-stop|  Late Night|          Mumbai|50,264|business|  UK-985|        1|\n",
      "|11/2/2022|AirIndia|    Late Night|      Delhi|  17h45m|  1-stop|   Afternoon|          Mumbai|50,669|business|  AI-479|        1|\n",
      "|11/2/2022|AirIndia|       Evening|      Delhi|  22h45m|  1-stop|     Evening|          Mumbai|51,059|business|  AI-473|        1|\n",
      "|11/2/2022| Vistara|    Late Night|      Delhi|  17h55m|  1-stop|   Afternoon|          Mumbai|51,731|business|  UK-871|        1|\n",
      "|11/2/2022| Vistara|       Evening|      Delhi|  02h15m|non-stop|  Late Night|          Mumbai|53,288|business|  UK-977|        1|\n",
      "|11/2/2022|AirIndia|    Late Night|      Delhi|  11h00m|  1-stop|     Morning|          Mumbai|56,081|business|  AI-504|        1|\n",
      "|11/2/2022|AirIndia|       Evening|      Delhi|  15h15m|  1-stop|     Morning|          Mumbai|56,081|business|  AI-807|        1|\n",
      "|11/2/2022|AirIndia|    Late Night|      Delhi|  11h25m|  1-stop|     Morning|          Mumbai|57,074|business|  AI-540|        1|\n",
      "|11/2/2022|AirIndia|       Evening|      Delhi|  15h50m|  1-stop|     Morning|          Mumbai|57,074|business|  AI-537|        1|\n",
      "|11/2/2022|AirIndia|    Late Night|      Delhi|  21h35m|  1-stop|     Evening|          Mumbai|57,074|business|  AI-540|        1|\n",
      "|11/2/2022|AirIndia|       Evening|      Delhi|  26h00m|  1-stop|     Evening|          Mumbai|57,074|business|  AI-537|        1|\n",
      "|11/2/2022| Vistara|       Evening|      Delhi|  05h45m|  1-stop|  Late Night|          Mumbai|57,868|business|  UK-817|        1|\n",
      "|11/2/2022| Vistara|       Evening|      Delhi|  16h10m|  1-stop|     Morning|          Mumbai|57,868|business|  UK-817|        1|\n",
      "|11/2/2022| Vistara|       Evening|      Delhi|  28h10m|  1-stop|  Late Night|          Mumbai|57,868|business|  UK-817|        1|\n",
      "|11/2/2022| Vistara|       Evening|      Delhi|  19h20m|  1-stop|     Morning|          Mumbai|59,996|business|  UK-817|        1|\n",
      "+---------+--------+--------------+-----------+--------+--------+------------+----------------+------+--------+--------+---------+\n",
      "only showing top 20 rows\n",
      "\n"
     ]
    }
   ],
   "source": [
    "# Chia arrival_time thành các khoảng thời gian tương tự như departure_time\n",
    "df = df.withColumn(\"arrival_time\", \n",
    "                   when((df[\"hour_of_day\"] == 0) | (df[\"hour_of_day\"] >= 20), \"Late Night\")\n",
    "                   .when((df[\"hour_of_day\"] >= 4) & (df[\"hour_of_day\"] < 8), \"Early Morning\")\n",
    "                   .when((df[\"hour_of_day\"] >= 8) & (df[\"hour_of_day\"] < 12), \"Morning\")\n",
    "                   .when((df[\"hour_of_day\"] >= 12) & (df[\"hour_of_day\"] < 16), \"Afternoon\")\n",
    "                   .when((df[\"hour_of_day\"] >= 16) & (df[\"hour_of_day\"] < 20), \"Evening\")\n",
    "                   .otherwise(\"Night\")\n",
    "                  )\n",
    "\n",
    "# Sau khi gán nhãn xong thì xóa cột \"hour_of_day\"\n",
    "df = df.drop(\"hour_of_day\")\n",
    "\n",
    "df.show()"
   ]
  },
  {
   "cell_type": "markdown",
   "id": "caee64a0",
   "metadata": {},
   "source": [
    "Chuyển đổi thời gian tổng cộng để di chuyển giữa các thành phố thành số nguyên tính theo giờ"
   ]
  },
  {
   "cell_type": "code",
   "execution_count": 25,
   "id": "761a0fa6",
   "metadata": {},
   "outputs": [
    {
     "name": "stdout",
     "output_type": "stream",
     "text": [
      "+---------+--------+--------------+-----------+--------+--------+------------+----------------+------+--------+--------+---------+----+------+\n",
      "|     date| airline|departure_time|source_city|duration|   stops|arrival_time|destination_city| price|   class|flightID|days_left|hour|minute|\n",
      "+---------+--------+--------------+-----------+--------+--------+------------+----------------+------+--------+--------+---------+----+------+\n",
      "|11/2/2022|AirIndia|       Evening|      Delhi|  02h00m|non-stop|  Late Night|          Mumbai|25,612|business|  AI-868|        1|   2|     0|\n",
      "|11/2/2022|AirIndia|       Evening|      Delhi|  02h15m|non-stop|  Late Night|          Mumbai|25,612|business|  AI-624|        1|   2|    15|\n",
      "|11/2/2022|AirIndia|    Late Night|      Delhi|  24h45m|  1-stop|  Late Night|          Mumbai|42,220|business|  AI-531|        1|  24|    45|\n",
      "|11/2/2022|AirIndia|    Late Night|      Delhi|  26h30m|  1-stop|  Late Night|          Mumbai|44,450|business|  AI-839|        1|  26|    30|\n",
      "|11/2/2022|AirIndia|       Evening|      Delhi|  06h40m|  1-stop|  Late Night|          Mumbai|46,690|business|  AI-544|        1|   6|    40|\n",
      "|11/2/2022| Vistara|       Evening|      Delhi|  02h10m|non-stop|  Late Night|          Mumbai|50,264|business|  UK-985|        1|   2|    10|\n",
      "|11/2/2022|AirIndia|    Late Night|      Delhi|  17h45m|  1-stop|   Afternoon|          Mumbai|50,669|business|  AI-479|        1|  17|    45|\n",
      "|11/2/2022|AirIndia|       Evening|      Delhi|  22h45m|  1-stop|     Evening|          Mumbai|51,059|business|  AI-473|        1|  22|    45|\n",
      "|11/2/2022| Vistara|    Late Night|      Delhi|  17h55m|  1-stop|   Afternoon|          Mumbai|51,731|business|  UK-871|        1|  17|    55|\n",
      "|11/2/2022| Vistara|       Evening|      Delhi|  02h15m|non-stop|  Late Night|          Mumbai|53,288|business|  UK-977|        1|   2|    15|\n",
      "|11/2/2022|AirIndia|    Late Night|      Delhi|  11h00m|  1-stop|     Morning|          Mumbai|56,081|business|  AI-504|        1|  11|     0|\n",
      "|11/2/2022|AirIndia|       Evening|      Delhi|  15h15m|  1-stop|     Morning|          Mumbai|56,081|business|  AI-807|        1|  15|    15|\n",
      "|11/2/2022|AirIndia|    Late Night|      Delhi|  11h25m|  1-stop|     Morning|          Mumbai|57,074|business|  AI-540|        1|  11|    25|\n",
      "|11/2/2022|AirIndia|       Evening|      Delhi|  15h50m|  1-stop|     Morning|          Mumbai|57,074|business|  AI-537|        1|  15|    50|\n",
      "|11/2/2022|AirIndia|    Late Night|      Delhi|  21h35m|  1-stop|     Evening|          Mumbai|57,074|business|  AI-540|        1|  21|    35|\n",
      "|11/2/2022|AirIndia|       Evening|      Delhi|  26h00m|  1-stop|     Evening|          Mumbai|57,074|business|  AI-537|        1|  26|     0|\n",
      "|11/2/2022| Vistara|       Evening|      Delhi|  05h45m|  1-stop|  Late Night|          Mumbai|57,868|business|  UK-817|        1|   5|    45|\n",
      "|11/2/2022| Vistara|       Evening|      Delhi|  16h10m|  1-stop|     Morning|          Mumbai|57,868|business|  UK-817|        1|  16|    10|\n",
      "|11/2/2022| Vistara|       Evening|      Delhi|  28h10m|  1-stop|  Late Night|          Mumbai|57,868|business|  UK-817|        1|  28|    10|\n",
      "|11/2/2022| Vistara|       Evening|      Delhi|  19h20m|  1-stop|     Morning|          Mumbai|59,996|business|  UK-817|        1|  19|    20|\n",
      "+---------+--------+--------------+-----------+--------+--------+------------+----------------+------+--------+--------+---------+----+------+\n",
      "only showing top 20 rows\n",
      "\n"
     ]
    }
   ],
   "source": [
    "# Chia cột \"duration\" thành hai cột \"hour\" và \"minute\"\n",
    "df = df.withColumn(\"hour\", split(col(\"duration\"), \"h\")[0].cast(\"int\"))\n",
    "df = df.withColumn(\"minute\", split(split(col(\"duration\"), \"h\")[1], \"m\")[0].cast(\"int\"))\n",
    "\n",
    "df.show()"
   ]
  },
  {
   "cell_type": "code",
   "execution_count": 26,
   "id": "0a963945",
   "metadata": {},
   "outputs": [
    {
     "name": "stdout",
     "output_type": "stream",
     "text": [
      "+---------+--------+--------------+-----------+--------+--------+------------+----------------+------+--------+--------+---------+----+------+\n",
      "|     date| airline|departure_time|source_city|duration|   stops|arrival_time|destination_city| price|   class|flightID|days_left|hour|minute|\n",
      "+---------+--------+--------------+-----------+--------+--------+------------+----------------+------+--------+--------+---------+----+------+\n",
      "|11/2/2022|AirIndia|       Evening|      Delhi|     2.0|non-stop|  Late Night|          Mumbai|25,612|business|  AI-868|        1|   2|     0|\n",
      "|11/2/2022|AirIndia|       Evening|      Delhi|    2.25|non-stop|  Late Night|          Mumbai|25,612|business|  AI-624|        1|   2|    15|\n",
      "|11/2/2022|AirIndia|    Late Night|      Delhi|   24.75|  1-stop|  Late Night|          Mumbai|42,220|business|  AI-531|        1|  24|    45|\n",
      "|11/2/2022|AirIndia|    Late Night|      Delhi|    26.5|  1-stop|  Late Night|          Mumbai|44,450|business|  AI-839|        1|  26|    30|\n",
      "|11/2/2022|AirIndia|       Evening|      Delhi|    6.67|  1-stop|  Late Night|          Mumbai|46,690|business|  AI-544|        1|   6|    40|\n",
      "|11/2/2022| Vistara|       Evening|      Delhi|    2.17|non-stop|  Late Night|          Mumbai|50,264|business|  UK-985|        1|   2|    10|\n",
      "|11/2/2022|AirIndia|    Late Night|      Delhi|   17.75|  1-stop|   Afternoon|          Mumbai|50,669|business|  AI-479|        1|  17|    45|\n",
      "|11/2/2022|AirIndia|       Evening|      Delhi|   22.75|  1-stop|     Evening|          Mumbai|51,059|business|  AI-473|        1|  22|    45|\n",
      "|11/2/2022| Vistara|    Late Night|      Delhi|   17.92|  1-stop|   Afternoon|          Mumbai|51,731|business|  UK-871|        1|  17|    55|\n",
      "|11/2/2022| Vistara|       Evening|      Delhi|    2.25|non-stop|  Late Night|          Mumbai|53,288|business|  UK-977|        1|   2|    15|\n",
      "|11/2/2022|AirIndia|    Late Night|      Delhi|    11.0|  1-stop|     Morning|          Mumbai|56,081|business|  AI-504|        1|  11|     0|\n",
      "|11/2/2022|AirIndia|       Evening|      Delhi|   15.25|  1-stop|     Morning|          Mumbai|56,081|business|  AI-807|        1|  15|    15|\n",
      "|11/2/2022|AirIndia|    Late Night|      Delhi|   11.42|  1-stop|     Morning|          Mumbai|57,074|business|  AI-540|        1|  11|    25|\n",
      "|11/2/2022|AirIndia|       Evening|      Delhi|   15.83|  1-stop|     Morning|          Mumbai|57,074|business|  AI-537|        1|  15|    50|\n",
      "|11/2/2022|AirIndia|    Late Night|      Delhi|   21.58|  1-stop|     Evening|          Mumbai|57,074|business|  AI-540|        1|  21|    35|\n",
      "|11/2/2022|AirIndia|       Evening|      Delhi|    26.0|  1-stop|     Evening|          Mumbai|57,074|business|  AI-537|        1|  26|     0|\n",
      "|11/2/2022| Vistara|       Evening|      Delhi|    5.75|  1-stop|  Late Night|          Mumbai|57,868|business|  UK-817|        1|   5|    45|\n",
      "|11/2/2022| Vistara|       Evening|      Delhi|   16.17|  1-stop|     Morning|          Mumbai|57,868|business|  UK-817|        1|  16|    10|\n",
      "|11/2/2022| Vistara|       Evening|      Delhi|   28.17|  1-stop|  Late Night|          Mumbai|57,868|business|  UK-817|        1|  28|    10|\n",
      "|11/2/2022| Vistara|       Evening|      Delhi|   19.33|  1-stop|     Morning|          Mumbai|59,996|business|  UK-817|        1|  19|    20|\n",
      "+---------+--------+--------------+-----------+--------+--------+------------+----------------+------+--------+--------+---------+----+------+\n",
      "only showing top 20 rows\n",
      "\n"
     ]
    }
   ],
   "source": [
    "# Chuyển đổi cột \"minute\" thành kiểu dữ liệu integer để tính toán\n",
    "df = df.withColumn(\"minute\", when(col(\"minute\") == \"\", 0).otherwise(col(\"minute\").cast(\"int\")))\n",
    "\n",
    "# Tính toán giá trị của cột \"duration\" bằng cách lấy tổng của cột \"hour\" và giá trị của cột \"minute\" chia cho 60\n",
    "# Sau đó làm tròn đến 2 chữ số thập phân\n",
    "df = df.withColumn(\"duration\", round((col(\"hour\") + (col(\"minute\") / 60)), 2))\n",
    "\n",
    "df.show()"
   ]
  },
  {
   "cell_type": "code",
   "execution_count": 27,
   "id": "8fad622d",
   "metadata": {},
   "outputs": [
    {
     "name": "stdout",
     "output_type": "stream",
     "text": [
      "+---------+--------+--------------+-----------+--------+--------+------------+----------------+------+--------+--------+---------+\n",
      "|     date| airline|departure_time|source_city|duration|   stops|arrival_time|destination_city| price|   class|flightID|days_left|\n",
      "+---------+--------+--------------+-----------+--------+--------+------------+----------------+------+--------+--------+---------+\n",
      "|11/2/2022|AirIndia|       Evening|      Delhi|     2.0|non-stop|  Late Night|          Mumbai|25,612|business|  AI-868|        1|\n",
      "|11/2/2022|AirIndia|       Evening|      Delhi|    2.25|non-stop|  Late Night|          Mumbai|25,612|business|  AI-624|        1|\n",
      "|11/2/2022|AirIndia|    Late Night|      Delhi|   24.75|  1-stop|  Late Night|          Mumbai|42,220|business|  AI-531|        1|\n",
      "|11/2/2022|AirIndia|    Late Night|      Delhi|    26.5|  1-stop|  Late Night|          Mumbai|44,450|business|  AI-839|        1|\n",
      "|11/2/2022|AirIndia|       Evening|      Delhi|    6.67|  1-stop|  Late Night|          Mumbai|46,690|business|  AI-544|        1|\n",
      "|11/2/2022| Vistara|       Evening|      Delhi|    2.17|non-stop|  Late Night|          Mumbai|50,264|business|  UK-985|        1|\n",
      "|11/2/2022|AirIndia|    Late Night|      Delhi|   17.75|  1-stop|   Afternoon|          Mumbai|50,669|business|  AI-479|        1|\n",
      "|11/2/2022|AirIndia|       Evening|      Delhi|   22.75|  1-stop|     Evening|          Mumbai|51,059|business|  AI-473|        1|\n",
      "|11/2/2022| Vistara|    Late Night|      Delhi|   17.92|  1-stop|   Afternoon|          Mumbai|51,731|business|  UK-871|        1|\n",
      "|11/2/2022| Vistara|       Evening|      Delhi|    2.25|non-stop|  Late Night|          Mumbai|53,288|business|  UK-977|        1|\n",
      "|11/2/2022|AirIndia|    Late Night|      Delhi|    11.0|  1-stop|     Morning|          Mumbai|56,081|business|  AI-504|        1|\n",
      "|11/2/2022|AirIndia|       Evening|      Delhi|   15.25|  1-stop|     Morning|          Mumbai|56,081|business|  AI-807|        1|\n",
      "|11/2/2022|AirIndia|    Late Night|      Delhi|   11.42|  1-stop|     Morning|          Mumbai|57,074|business|  AI-540|        1|\n",
      "|11/2/2022|AirIndia|       Evening|      Delhi|   15.83|  1-stop|     Morning|          Mumbai|57,074|business|  AI-537|        1|\n",
      "|11/2/2022|AirIndia|    Late Night|      Delhi|   21.58|  1-stop|     Evening|          Mumbai|57,074|business|  AI-540|        1|\n",
      "|11/2/2022|AirIndia|       Evening|      Delhi|    26.0|  1-stop|     Evening|          Mumbai|57,074|business|  AI-537|        1|\n",
      "|11/2/2022| Vistara|       Evening|      Delhi|    5.75|  1-stop|  Late Night|          Mumbai|57,868|business|  UK-817|        1|\n",
      "|11/2/2022| Vistara|       Evening|      Delhi|   16.17|  1-stop|     Morning|          Mumbai|57,868|business|  UK-817|        1|\n",
      "|11/2/2022| Vistara|       Evening|      Delhi|   28.17|  1-stop|  Late Night|          Mumbai|57,868|business|  UK-817|        1|\n",
      "|11/2/2022| Vistara|       Evening|      Delhi|   19.33|  1-stop|     Morning|          Mumbai|59,996|business|  UK-817|        1|\n",
      "+---------+--------+--------------+-----------+--------+--------+------------+----------------+------+--------+--------+---------+\n",
      "only showing top 20 rows\n",
      "\n"
     ]
    }
   ],
   "source": [
    "# Sau khi tính toán xong duration thì loại bỏ 2 cột trung gian \"hour\" \"minute\"\n",
    "df = df.drop(\"hour\", \"minute\")\n",
    "\n",
    "df.show()"
   ]
  },
  {
   "cell_type": "markdown",
   "id": "e7f009e8",
   "metadata": {},
   "source": [
    "chuyển đổi giá trị cột stops thành các số nguyên với: \\n\n",
    "    non-stop -> 0 là không dừng lại ở đâu \\n\n",
    "    1-stop   -> 1 là dừng lại ở 1 điểm \\n\n",
    "    2-stop   -> 2 là dừng lại ở 2 điểm \\n"
   ]
  },
  {
   "cell_type": "code",
   "execution_count": 28,
   "id": "dd21b282",
   "metadata": {},
   "outputs": [
    {
     "name": "stdout",
     "output_type": "stream",
     "text": [
      "+---------+--------+--------------+-----------+--------+-----+------------+----------------+------+--------+--------+---------+\n",
      "|     date| airline|departure_time|source_city|duration|stops|arrival_time|destination_city| price|   class|flightID|days_left|\n",
      "+---------+--------+--------------+-----------+--------+-----+------------+----------------+------+--------+--------+---------+\n",
      "|11/2/2022|AirIndia|       Evening|      Delhi|     2.0|    0|  Late Night|          Mumbai|25,612|business|  AI-868|        1|\n",
      "|11/2/2022|AirIndia|       Evening|      Delhi|    2.25|    0|  Late Night|          Mumbai|25,612|business|  AI-624|        1|\n",
      "|11/2/2022|AirIndia|    Late Night|      Delhi|   24.75|    1|  Late Night|          Mumbai|42,220|business|  AI-531|        1|\n",
      "|11/2/2022|AirIndia|    Late Night|      Delhi|    26.5|    1|  Late Night|          Mumbai|44,450|business|  AI-839|        1|\n",
      "|11/2/2022|AirIndia|       Evening|      Delhi|    6.67|    1|  Late Night|          Mumbai|46,690|business|  AI-544|        1|\n",
      "|11/2/2022| Vistara|       Evening|      Delhi|    2.17|    0|  Late Night|          Mumbai|50,264|business|  UK-985|        1|\n",
      "|11/2/2022|AirIndia|    Late Night|      Delhi|   17.75|    1|   Afternoon|          Mumbai|50,669|business|  AI-479|        1|\n",
      "|11/2/2022|AirIndia|       Evening|      Delhi|   22.75|    1|     Evening|          Mumbai|51,059|business|  AI-473|        1|\n",
      "|11/2/2022| Vistara|    Late Night|      Delhi|   17.92|    1|   Afternoon|          Mumbai|51,731|business|  UK-871|        1|\n",
      "|11/2/2022| Vistara|       Evening|      Delhi|    2.25|    0|  Late Night|          Mumbai|53,288|business|  UK-977|        1|\n",
      "|11/2/2022|AirIndia|    Late Night|      Delhi|    11.0|    1|     Morning|          Mumbai|56,081|business|  AI-504|        1|\n",
      "|11/2/2022|AirIndia|       Evening|      Delhi|   15.25|    1|     Morning|          Mumbai|56,081|business|  AI-807|        1|\n",
      "|11/2/2022|AirIndia|    Late Night|      Delhi|   11.42|    1|     Morning|          Mumbai|57,074|business|  AI-540|        1|\n",
      "|11/2/2022|AirIndia|       Evening|      Delhi|   15.83|    1|     Morning|          Mumbai|57,074|business|  AI-537|        1|\n",
      "|11/2/2022|AirIndia|    Late Night|      Delhi|   21.58|    1|     Evening|          Mumbai|57,074|business|  AI-540|        1|\n",
      "|11/2/2022|AirIndia|       Evening|      Delhi|    26.0|    1|     Evening|          Mumbai|57,074|business|  AI-537|        1|\n",
      "|11/2/2022| Vistara|       Evening|      Delhi|    5.75|    1|  Late Night|          Mumbai|57,868|business|  UK-817|        1|\n",
      "|11/2/2022| Vistara|       Evening|      Delhi|   16.17|    1|     Morning|          Mumbai|57,868|business|  UK-817|        1|\n",
      "|11/2/2022| Vistara|       Evening|      Delhi|   28.17|    1|  Late Night|          Mumbai|57,868|business|  UK-817|        1|\n",
      "|11/2/2022| Vistara|       Evening|      Delhi|   19.33|    1|     Morning|          Mumbai|59,996|business|  UK-817|        1|\n",
      "+---------+--------+--------------+-----------+--------+-----+------------+----------------+------+--------+--------+---------+\n",
      "only showing top 20 rows\n",
      "\n"
     ]
    }
   ],
   "source": [
    "# Loại bỏ ký tự không phải số\n",
    "df = df.withColumn(\"stops\", regexp_replace(col(\"stops\"), \"[^0-9]\", \"\"))  \n",
    "\n",
    "# Thay thế giá trị rỗng bằng 0\n",
    "df = df.withColumn(\"stops\", when(col(\"stops\") == \"\", 0).otherwise(col(\"stops\").cast(\"int\")))  \n",
    "\n",
    "df.show()"
   ]
  },
  {
   "cell_type": "markdown",
   "id": "bdbcc3bf",
   "metadata": {},
   "source": [
    "Chuyển đổi cột \"price\" thành kiểu dữ liệu số nguyên"
   ]
  },
  {
   "cell_type": "code",
   "execution_count": 29,
   "id": "314361f7",
   "metadata": {
    "scrolled": true
   },
   "outputs": [
    {
     "name": "stdout",
     "output_type": "stream",
     "text": [
      "+---------+--------+--------------+-----------+--------+-----+------------+----------------+-----+--------+--------+---------+\n",
      "|     date| airline|departure_time|source_city|duration|stops|arrival_time|destination_city|price|   class|flightID|days_left|\n",
      "+---------+--------+--------------+-----------+--------+-----+------------+----------------+-----+--------+--------+---------+\n",
      "|11/2/2022|AirIndia|       Evening|      Delhi|     2.0|    0|  Late Night|          Mumbai|25612|business|  AI-868|        1|\n",
      "|11/2/2022|AirIndia|       Evening|      Delhi|    2.25|    0|  Late Night|          Mumbai|25612|business|  AI-624|        1|\n",
      "|11/2/2022|AirIndia|    Late Night|      Delhi|   24.75|    1|  Late Night|          Mumbai|42220|business|  AI-531|        1|\n",
      "|11/2/2022|AirIndia|    Late Night|      Delhi|    26.5|    1|  Late Night|          Mumbai|44450|business|  AI-839|        1|\n",
      "|11/2/2022|AirIndia|       Evening|      Delhi|    6.67|    1|  Late Night|          Mumbai|46690|business|  AI-544|        1|\n",
      "|11/2/2022| Vistara|       Evening|      Delhi|    2.17|    0|  Late Night|          Mumbai|50264|business|  UK-985|        1|\n",
      "|11/2/2022|AirIndia|    Late Night|      Delhi|   17.75|    1|   Afternoon|          Mumbai|50669|business|  AI-479|        1|\n",
      "|11/2/2022|AirIndia|       Evening|      Delhi|   22.75|    1|     Evening|          Mumbai|51059|business|  AI-473|        1|\n",
      "|11/2/2022| Vistara|    Late Night|      Delhi|   17.92|    1|   Afternoon|          Mumbai|51731|business|  UK-871|        1|\n",
      "|11/2/2022| Vistara|       Evening|      Delhi|    2.25|    0|  Late Night|          Mumbai|53288|business|  UK-977|        1|\n",
      "|11/2/2022|AirIndia|    Late Night|      Delhi|    11.0|    1|     Morning|          Mumbai|56081|business|  AI-504|        1|\n",
      "|11/2/2022|AirIndia|       Evening|      Delhi|   15.25|    1|     Morning|          Mumbai|56081|business|  AI-807|        1|\n",
      "|11/2/2022|AirIndia|    Late Night|      Delhi|   11.42|    1|     Morning|          Mumbai|57074|business|  AI-540|        1|\n",
      "|11/2/2022|AirIndia|       Evening|      Delhi|   15.83|    1|     Morning|          Mumbai|57074|business|  AI-537|        1|\n",
      "|11/2/2022|AirIndia|    Late Night|      Delhi|   21.58|    1|     Evening|          Mumbai|57074|business|  AI-540|        1|\n",
      "|11/2/2022|AirIndia|       Evening|      Delhi|    26.0|    1|     Evening|          Mumbai|57074|business|  AI-537|        1|\n",
      "|11/2/2022| Vistara|       Evening|      Delhi|    5.75|    1|  Late Night|          Mumbai|57868|business|  UK-817|        1|\n",
      "|11/2/2022| Vistara|       Evening|      Delhi|   16.17|    1|     Morning|          Mumbai|57868|business|  UK-817|        1|\n",
      "|11/2/2022| Vistara|       Evening|      Delhi|   28.17|    1|  Late Night|          Mumbai|57868|business|  UK-817|        1|\n",
      "|11/2/2022| Vistara|       Evening|      Delhi|   19.33|    1|     Morning|          Mumbai|59996|business|  UK-817|        1|\n",
      "+---------+--------+--------------+-----------+--------+-----+------------+----------------+-----+--------+--------+---------+\n",
      "only showing top 20 rows\n",
      "\n"
     ]
    }
   ],
   "source": [
    "# Loại bỏ ký tự không phải số\n",
    "df = df.withColumn(\"price\", regexp_replace(col(\"price\"), \"[^0-9]\", \"\"))  \n",
    "\n",
    "# Chuyển đổi kiểu dữ liệu sang số nguyên\n",
    "df = df.withColumn(\"price\", col(\"price\").cast(\"int\"))  \n",
    "\n",
    "# Hiển thị một số dòng đầu tiên của DataFrame mới\n",
    "df.show()"
   ]
  },
  {
   "cell_type": "markdown",
   "id": "eb084a47",
   "metadata": {},
   "source": [
    "Tính toán các chỉ số cho các cột \"duration\" \"stops\" \"price\" \"day_left\""
   ]
  },
  {
   "cell_type": "code",
   "execution_count": 30,
   "id": "976f86e3",
   "metadata": {},
   "outputs": [
    {
     "name": "stderr",
     "output_type": "stream",
     "text": [
      "                                                                                \r"
     ]
    },
    {
     "name": "stdout",
     "output_type": "stream",
     "text": [
      "\n",
      "Stats for column: duration\n",
      "Max value of duration: 49.83\n",
      "Min value of duration: 0.83\n",
      "Mean value of duration: 12.21794266245252\n",
      "Median of duration: 11.17\n"
     ]
    },
    {
     "name": "stderr",
     "output_type": "stream",
     "text": [
      "                                                                                \r"
     ]
    },
    {
     "name": "stdout",
     "output_type": "stream",
     "text": [
      "\n",
      "Stats for column: stops\n",
      "Max value of stops: 2\n",
      "Min value of stops: 0\n",
      "Mean value of stops: 0.9242126017031849\n",
      "Median of stops: 1.0\n"
     ]
    },
    {
     "name": "stderr",
     "output_type": "stream",
     "text": [
      "\r",
      "[Stage 64:=============================>                            (3 + 3) / 6]\r",
      "\r",
      "                                                                                \r"
     ]
    },
    {
     "name": "stdout",
     "output_type": "stream",
     "text": [
      "\n",
      "Stats for column: price\n",
      "Max value of price: 123071\n",
      "Min value of price: 1105\n",
      "Mean value of price: 20883.717665630902\n",
      "Median of price: 7420.0\n",
      "\n",
      "Stats for column: days_left\n",
      "Max value of days_left: 30\n",
      "Min value of days_left: 1\n",
      "Mean value of days_left: 22.873296158612145\n",
      "Median of days_left: 24.0\n"
     ]
    }
   ],
   "source": [
    "def describe_numeric(df):\n",
    "    for col_name in df.columns:\n",
    "        # Kiểm tra kiểu dữ liệu của cột\n",
    "        data_type = df.schema[col_name].dataType\n",
    "\n",
    "        # Nếu cột không phải kiểu dữ liệu StringType (String), tính toán các chỉ số\n",
    "        if not isinstance(data_type, StringType):\n",
    "            max_value = df.agg({col_name: \"max\"}).collect()[0][0]\n",
    "            min_value = df.agg({col_name: \"min\"}).collect()[0][0]\n",
    "            mean_value = df.agg({col_name: \"mean\"}).collect()[0][0]\n",
    "            median_value = df.approxQuantile(col_name, [0.5], 0.01)[0]\n",
    "\n",
    "            print(f\"\\nStats for column: {col_name}\")\n",
    "            print(f\"Max value of {col_name}: {max_value}\")\n",
    "            print(f\"Min value of {col_name}: {min_value}\")\n",
    "            print(f\"Mean value of {col_name}: {mean_value}\")\n",
    "            print(f\"Median of {col_name}: {median_value}\")\n",
    "\n",
    "# Chạy hàm và in kết quả\n",
    "describe_numeric(df)"
   ]
  },
  {
   "cell_type": "code",
   "execution_count": 31,
   "id": "530558b6",
   "metadata": {},
   "outputs": [],
   "source": [
    "# Tạo hàm tìm giá trị xuất hiện nhiều nhất\n",
    "def find_mode(column_name):\n",
    "    # Tạo một Series chứa các giá trị của cột\n",
    "    column_values = df.select(column_name).rdd.flatMap(lambda x: x).collect()\n",
    "    \n",
    "    # Tính toán số lần xuất hiện của mỗi giá trị\n",
    "    value_counts = {}\n",
    "    for value in column_values:\n",
    "        if value in value_counts:\n",
    "            value_counts[value] += 1\n",
    "        else:\n",
    "            value_counts[value] = 1\n",
    "    \n",
    "    # Tìm giá trị có số lần xuất hiện nhiều nhất (mode)\n",
    "    mode_value = max(value_counts, key=value_counts.get)\n",
    "    return mode_value"
   ]
  },
  {
   "cell_type": "code",
   "execution_count": 32,
   "id": "1e4354b8",
   "metadata": {},
   "outputs": [],
   "source": [
    "# Tạo hàm tìm giá trị hiếm nhất\n",
    "def find_rare_value(column_name):\n",
    "    # Tạo một Series chứa các giá trị của cột\n",
    "    column_values = df.select(column_name).rdd.flatMap(lambda x: x).collect()\n",
    "    \n",
    "    # Tính toán số lần xuất hiện của mỗi giá trị\n",
    "    value_counts = {}\n",
    "    for value in column_values:\n",
    "        if value in value_counts:\n",
    "            value_counts[value] += 1\n",
    "        else:\n",
    "            value_counts[value] = 1\n",
    "    \n",
    "    # Tìm giá trị có số lần xuất hiện nhiều nhất (mode)\n",
    "    rare_value = min(value_counts, key=value_counts.get)\n",
    "    return rare_value"
   ]
  },
  {
   "cell_type": "code",
   "execution_count": 36,
   "id": "a4df1a14",
   "metadata": {},
   "outputs": [
    {
     "name": "stdout",
     "output_type": "stream",
     "text": [
      "\n",
      "Stats for column: date\n"
     ]
    },
    {
     "name": "stderr",
     "output_type": "stream",
     "text": [
      "                                                                                \r"
     ]
    },
    {
     "name": "stdout",
     "output_type": "stream",
     "text": [
      "Mode of date: 7/3/2022\n"
     ]
    },
    {
     "name": "stderr",
     "output_type": "stream",
     "text": [
      "                                                                                \r"
     ]
    },
    {
     "name": "stdout",
     "output_type": "stream",
     "text": [
      "Least common value of date: 11/2/2022\n",
      "=================================\n",
      "\n",
      "Stats for column: airline\n"
     ]
    },
    {
     "name": "stderr",
     "output_type": "stream",
     "text": [
      "                                                                                \r"
     ]
    },
    {
     "name": "stdout",
     "output_type": "stream",
     "text": [
      "Mode of airline: Vistara\n"
     ]
    },
    {
     "name": "stderr",
     "output_type": "stream",
     "text": [
      "                                                                                \r"
     ]
    },
    {
     "name": "stdout",
     "output_type": "stream",
     "text": [
      "Least common value of airline: Trujet\n",
      "=================================\n",
      "\n",
      "Stats for column: departure_time\n"
     ]
    },
    {
     "name": "stderr",
     "output_type": "stream",
     "text": [
      "                                                                                \r"
     ]
    },
    {
     "name": "stdout",
     "output_type": "stream",
     "text": [
      "Mode of departure_time: Morning\n"
     ]
    },
    {
     "name": "stderr",
     "output_type": "stream",
     "text": [
      "                                                                                \r"
     ]
    },
    {
     "name": "stdout",
     "output_type": "stream",
     "text": [
      "Least common value of departure_time: Night\n",
      "=================================\n",
      "\n",
      "Stats for column: source_city\n"
     ]
    },
    {
     "name": "stderr",
     "output_type": "stream",
     "text": [
      "                                                                                \r"
     ]
    },
    {
     "name": "stdout",
     "output_type": "stream",
     "text": [
      "Mode of source_city: Delhi\n"
     ]
    },
    {
     "name": "stderr",
     "output_type": "stream",
     "text": [
      "                                                                                \r"
     ]
    },
    {
     "name": "stdout",
     "output_type": "stream",
     "text": [
      "Least common value of source_city: Chennai\n",
      "=================================\n",
      "\n",
      "Stats for column: duration\n"
     ]
    },
    {
     "name": "stderr",
     "output_type": "stream",
     "text": [
      "                                                                                \r"
     ]
    },
    {
     "name": "stdout",
     "output_type": "stream",
     "text": [
      "Mode of duration: 2.17\n"
     ]
    },
    {
     "name": "stderr",
     "output_type": "stream",
     "text": [
      "                                                                                \r"
     ]
    },
    {
     "name": "stdout",
     "output_type": "stream",
     "text": [
      "Least common value of duration: 41.58\n",
      "=================================\n",
      "\n",
      "Stats for column: stops\n"
     ]
    },
    {
     "name": "stderr",
     "output_type": "stream",
     "text": [
      "                                                                                \r"
     ]
    },
    {
     "name": "stdout",
     "output_type": "stream",
     "text": [
      "Mode of stops: 1\n"
     ]
    },
    {
     "name": "stderr",
     "output_type": "stream",
     "text": [
      "                                                                                \r"
     ]
    },
    {
     "name": "stdout",
     "output_type": "stream",
     "text": [
      "Least common value of stops: 2\n",
      "=================================\n",
      "\n",
      "Stats for column: arrival_time\n"
     ]
    },
    {
     "name": "stderr",
     "output_type": "stream",
     "text": [
      "                                                                                \r"
     ]
    },
    {
     "name": "stdout",
     "output_type": "stream",
     "text": [
      "Mode of arrival_time: Late Night\n"
     ]
    },
    {
     "name": "stderr",
     "output_type": "stream",
     "text": [
      "                                                                                \r"
     ]
    },
    {
     "name": "stdout",
     "output_type": "stream",
     "text": [
      "Least common value of arrival_time: Night\n",
      "=================================\n",
      "\n",
      "Stats for column: destination_city\n"
     ]
    },
    {
     "name": "stderr",
     "output_type": "stream",
     "text": [
      "                                                                                \r"
     ]
    },
    {
     "name": "stdout",
     "output_type": "stream",
     "text": [
      "Mode of destination_city: Mumbai\n"
     ]
    },
    {
     "name": "stderr",
     "output_type": "stream",
     "text": [
      "                                                                                \r"
     ]
    },
    {
     "name": "stdout",
     "output_type": "stream",
     "text": [
      "Least common value of destination_city: Chennai\n",
      "=================================\n",
      "\n",
      "Stats for column: price\n"
     ]
    },
    {
     "name": "stderr",
     "output_type": "stream",
     "text": [
      "                                                                                \r"
     ]
    },
    {
     "name": "stdout",
     "output_type": "stream",
     "text": [
      "Mode of price: 54608\n"
     ]
    },
    {
     "name": "stderr",
     "output_type": "stream",
     "text": [
      "                                                                                \r"
     ]
    },
    {
     "name": "stdout",
     "output_type": "stream",
     "text": [
      "Least common value of price: 42220\n",
      "=================================\n",
      "\n",
      "Stats for column: class\n"
     ]
    },
    {
     "name": "stderr",
     "output_type": "stream",
     "text": [
      "                                                                                \r"
     ]
    },
    {
     "name": "stdout",
     "output_type": "stream",
     "text": [
      "Mode of class: economy\n"
     ]
    },
    {
     "name": "stderr",
     "output_type": "stream",
     "text": [
      "                                                                                \r"
     ]
    },
    {
     "name": "stdout",
     "output_type": "stream",
     "text": [
      "Least common value of class: business\n",
      "=================================\n",
      "\n",
      "Stats for column: flightID\n"
     ]
    },
    {
     "name": "stderr",
     "output_type": "stream",
     "text": [
      "                                                                                \r"
     ]
    },
    {
     "name": "stdout",
     "output_type": "stream",
     "text": [
      "Mode of flightID: UK-706\n"
     ]
    },
    {
     "name": "stderr",
     "output_type": "stream",
     "text": [
      "                                                                                \r"
     ]
    },
    {
     "name": "stdout",
     "output_type": "stream",
     "text": [
      "Least common value of flightID: SG-8339\n",
      "=================================\n",
      "\n",
      "Stats for column: days_left\n"
     ]
    },
    {
     "name": "stderr",
     "output_type": "stream",
     "text": [
      "                                                                                \r"
     ]
    },
    {
     "name": "stdout",
     "output_type": "stream",
     "text": [
      "Mode of days_left: None\n"
     ]
    },
    {
     "name": "stderr",
     "output_type": "stream",
     "text": [
      "\r",
      "[Stage 124:============================>                            (3 + 3) / 6]\r"
     ]
    },
    {
     "name": "stdout",
     "output_type": "stream",
     "text": [
      "Least common value of days_left: 1\n",
      "=================================\n"
     ]
    },
    {
     "name": "stderr",
     "output_type": "stream",
     "text": [
      "\r",
      "[Stage 124:===============================================>         (5 + 1) / 6]\r",
      "\r",
      "                                                                                \r"
     ]
    }
   ],
   "source": [
    "# Hàm tìm giá trị xuất hiện nhiều nhất của các cột\n",
    "def print_mode(column_name):\n",
    "    mode_value = find_mode(column_name)\n",
    "    print(f\"Mode of {column_name}: {mode_value}\")\n",
    "\n",
    "# Hàm tìm giá trị hiếm nhất của các cột\n",
    "def print_rare_value(column_name):\n",
    "    rare_value = find_rare_value(column_name)\n",
    "    print(f\"Least common value of {column_name}: {rare_value}\")\n",
    "\n",
    "for col_name in df.columns:\n",
    "    print(f\"\\nStats for column: {col_name}\")\n",
    "    print_mode(col_name)\n",
    "    print_rare_value(col_name)\n",
    "    print(\"=================================\")"
   ]
  },
  {
   "cell_type": "code",
   "execution_count": 34,
   "id": "6d239617",
   "metadata": {
    "collapsed": true
   },
   "outputs": [
    {
     "name": "stdout",
     "output_type": "stream",
     "text": [
      "Defaulting to user installation because normal site-packages is not writeable\n",
      "Requirement already satisfied: plotnine in /home/godwolf/.local/lib/python3.11/site-packages (0.13.6)\n",
      "Requirement already satisfied: matplotlib>=3.7.0 in /home/godwolf/.local/lib/python3.11/site-packages (from plotnine) (3.9.0)\n",
      "Requirement already satisfied: pandas<3.0.0,>=2.1.0 in /home/godwolf/.local/lib/python3.11/site-packages (from plotnine) (2.2.2)\n",
      "Requirement already satisfied: mizani~=0.11.0 in /home/godwolf/.local/lib/python3.11/site-packages (from plotnine) (0.11.3)\n",
      "Requirement already satisfied: numpy>=1.23.0 in /usr/lib/python3/dist-packages (from plotnine) (1.24.2)\n",
      "Requirement already satisfied: scipy>=1.7.0 in /usr/lib/python3/dist-packages (from plotnine) (1.10.1)\n",
      "Requirement already satisfied: statsmodels>=0.14.0 in /home/godwolf/.local/lib/python3.11/site-packages (from plotnine) (0.14.2)\n",
      "Requirement already satisfied: contourpy>=1.0.1 in /usr/lib/python3/dist-packages (from matplotlib>=3.7.0->plotnine) (1.0.7)\n",
      "Requirement already satisfied: cycler>=0.10 in /usr/lib/python3/dist-packages (from matplotlib>=3.7.0->plotnine) (0.11.0)\n",
      "Requirement already satisfied: fonttools>=4.22.0 in /usr/lib/python3/dist-packages (from matplotlib>=3.7.0->plotnine) (4.38.0)\n",
      "Requirement already satisfied: kiwisolver>=1.3.1 in /home/godwolf/.local/lib/python3.11/site-packages (from matplotlib>=3.7.0->plotnine) (1.4.5)\n",
      "Requirement already satisfied: packaging>=20.0 in /usr/lib/python3/dist-packages (from matplotlib>=3.7.0->plotnine) (23.1)\n",
      "Requirement already satisfied: pillow>=8 in /usr/lib/python3/dist-packages (from matplotlib>=3.7.0->plotnine) (10.0.0)\n",
      "Requirement already satisfied: pyparsing>=2.3.1 in /usr/lib/python3/dist-packages (from matplotlib>=3.7.0->plotnine) (3.1.0)\n",
      "Requirement already satisfied: python-dateutil>=2.7 in /usr/lib/python3/dist-packages (from matplotlib>=3.7.0->plotnine) (2.8.2)\n",
      "Requirement already satisfied: pytz>=2020.1 in /usr/lib/python3/dist-packages (from pandas<3.0.0,>=2.1.0->plotnine) (2023.3)\n",
      "Requirement already satisfied: tzdata>=2022.7 in /home/godwolf/.local/lib/python3.11/site-packages (from pandas<3.0.0,>=2.1.0->plotnine) (2024.1)\n",
      "Requirement already satisfied: patsy>=0.5.6 in /home/godwolf/.local/lib/python3.11/site-packages (from statsmodels>=0.14.0->plotnine) (0.5.6)\n",
      "Requirement already satisfied: six in /usr/lib/python3/dist-packages (from patsy>=0.5.6->statsmodels>=0.14.0->plotnine) (1.16.0)\n",
      "Note: you may need to restart the kernel to use updated packages.\n"
     ]
    }
   ],
   "source": [
    "pip install plotnine"
   ]
  },
  {
   "cell_type": "code",
   "execution_count": 35,
   "id": "e198a343",
   "metadata": {},
   "outputs": [
    {
     "ename": "TypeError",
     "evalue": "Bad type of argument DataFrame[date: string, airline: string, departure_time: string, source_city: string, duration: double, stops: int, arrival_time: string, destination_city: string, price: int, class: string, flightID: string, days_left: int], expected a dataframe or a mapping.",
     "output_type": "error",
     "traceback": [
      "\u001b[0;31m---------------------------------------------------------------------------\u001b[0m",
      "\u001b[0;31mTypeError\u001b[0m                                 Traceback (most recent call last)",
      "Cell \u001b[0;32mIn[35], line 10\u001b[0m\n\u001b[1;32m      6\u001b[0m df \u001b[38;5;241m=\u001b[39m df\u001b[38;5;241m.\u001b[39mwithColumn(\u001b[38;5;124m'\u001b[39m\u001b[38;5;124mprice\u001b[39m\u001b[38;5;124m'\u001b[39m, col(\u001b[38;5;124m'\u001b[39m\u001b[38;5;124mprice\u001b[39m\u001b[38;5;124m'\u001b[39m)\u001b[38;5;241m.\u001b[39mcast(\u001b[38;5;124m'\u001b[39m\u001b[38;5;124minteger\u001b[39m\u001b[38;5;124m'\u001b[39m))\n\u001b[1;32m      8\u001b[0m \u001b[38;5;66;03m# Pie chart for class distribution\u001b[39;00m\n\u001b[1;32m      9\u001b[0m class_pie_chart \u001b[38;5;241m=\u001b[39m (\n\u001b[0;32m---> 10\u001b[0m     \u001b[43mggplot\u001b[49m\u001b[43m(\u001b[49m\u001b[43mdf\u001b[49m\u001b[43m,\u001b[49m\u001b[43m \u001b[49m\u001b[43maes\u001b[49m\u001b[43m(\u001b[49m\u001b[43mx\u001b[49m\u001b[38;5;241;43m=\u001b[39;49m\u001b[38;5;124;43m'\u001b[39;49m\u001b[38;5;124;43mfactor(1)\u001b[39;49m\u001b[38;5;124;43m'\u001b[39;49m\u001b[43m,\u001b[49m\u001b[43m \u001b[49m\u001b[43mfill\u001b[49m\u001b[38;5;241;43m=\u001b[39;49m\u001b[38;5;124;43m'\u001b[39;49m\u001b[38;5;124;43mclass\u001b[39;49m\u001b[38;5;124;43m'\u001b[39;49m\u001b[43m)\u001b[49m\u001b[43m)\u001b[49m \u001b[38;5;241m+\u001b[39m\n\u001b[1;32m     11\u001b[0m     geom_bar(stat\u001b[38;5;241m=\u001b[39m\u001b[38;5;124m'\u001b[39m\u001b[38;5;124mcount\u001b[39m\u001b[38;5;124m'\u001b[39m, width\u001b[38;5;241m=\u001b[39m\u001b[38;5;241m1\u001b[39m) \u001b[38;5;241m+\u001b[39m\n\u001b[1;32m     12\u001b[0m     coord_flip() \u001b[38;5;241m+\u001b[39m\n\u001b[1;32m     13\u001b[0m     theme_minimal() \u001b[38;5;241m+\u001b[39m\n\u001b[1;32m     14\u001b[0m     p9\u001b[38;5;241m.\u001b[39mscale_fill_manual(values\u001b[38;5;241m=\u001b[39m[\u001b[38;5;124m\"\u001b[39m\u001b[38;5;124m#1f78b4\u001b[39m\u001b[38;5;124m\"\u001b[39m, \u001b[38;5;124m\"\u001b[39m\u001b[38;5;124m#33a02c\u001b[39m\u001b[38;5;124m\"\u001b[39m]) \u001b[38;5;241m+\u001b[39m\n\u001b[1;32m     15\u001b[0m     p9\u001b[38;5;241m.\u001b[39mlabs(title\u001b[38;5;241m=\u001b[39m\u001b[38;5;124m'\u001b[39m\u001b[38;5;124mClasses of Different Airlines\u001b[39m\u001b[38;5;124m'\u001b[39m, fill\u001b[38;5;241m=\u001b[39m\u001b[38;5;124m'\u001b[39m\u001b[38;5;124mClass\u001b[39m\u001b[38;5;124m'\u001b[39m) \u001b[38;5;241m+\u001b[39m\n\u001b[1;32m     16\u001b[0m     p9\u001b[38;5;241m.\u001b[39mtheme(legend_position\u001b[38;5;241m=\u001b[39m\u001b[38;5;124m'\u001b[39m\u001b[38;5;124mnone\u001b[39m\u001b[38;5;124m'\u001b[39m)\n\u001b[1;32m     17\u001b[0m )\n\u001b[1;32m     19\u001b[0m \u001b[38;5;28mprint\u001b[39m(class_pie_chart)\n\u001b[1;32m     21\u001b[0m \u001b[38;5;66;03m# Boxplot for Class Vs Ticket Price\u001b[39;00m\n",
      "File \u001b[0;32m~/.local/lib/python3.11/site-packages/plotnine/ggplot.py:86\u001b[0m, in \u001b[0;36mggplot.__init__\u001b[0;34m(self, data, mapping)\u001b[0m\n\u001b[1;32m     83\u001b[0m \u001b[38;5;28;01mfrom\u001b[39;00m \u001b[38;5;21;01m.\u001b[39;00m\u001b[38;5;21;01mmapping\u001b[39;00m\u001b[38;5;21;01m.\u001b[39;00m\u001b[38;5;21;01m_env\u001b[39;00m \u001b[38;5;28;01mimport\u001b[39;00m Environment\n\u001b[1;32m     85\u001b[0m \u001b[38;5;66;03m# Allow some sloppiness\u001b[39;00m\n\u001b[0;32m---> 86\u001b[0m data, mapping \u001b[38;5;241m=\u001b[39m \u001b[43morder_as_data_mapping\u001b[49m\u001b[43m(\u001b[49m\u001b[43mdata\u001b[49m\u001b[43m,\u001b[49m\u001b[43m \u001b[49m\u001b[43mmapping\u001b[49m\u001b[43m)\u001b[49m\n\u001b[1;32m     87\u001b[0m \u001b[38;5;28mself\u001b[39m\u001b[38;5;241m.\u001b[39mdata \u001b[38;5;241m=\u001b[39m data\n\u001b[1;32m     88\u001b[0m \u001b[38;5;28mself\u001b[39m\u001b[38;5;241m.\u001b[39mmapping \u001b[38;5;241m=\u001b[39m mapping \u001b[38;5;28;01mif\u001b[39;00m mapping \u001b[38;5;129;01mis\u001b[39;00m \u001b[38;5;129;01mnot\u001b[39;00m \u001b[38;5;28;01mNone\u001b[39;00m \u001b[38;5;28;01melse\u001b[39;00m aes()\n",
      "File \u001b[0;32m~/.local/lib/python3.11/site-packages/plotnine/_utils/__init__.py:913\u001b[0m, in \u001b[0;36morder_as_data_mapping\u001b[0;34m(arg1, arg2)\u001b[0m\n\u001b[1;32m    911\u001b[0m             \u001b[38;5;28;01mraise\u001b[39;00m \u001b[38;5;167;01mTypeError\u001b[39;00m(\u001b[38;5;124m\"\u001b[39m\u001b[38;5;124mExpected a single dataframe, found two\u001b[39m\u001b[38;5;124m\"\u001b[39m)\n\u001b[1;32m    912\u001b[0m     \u001b[38;5;28;01melif\u001b[39;00m arg \u001b[38;5;129;01mis\u001b[39;00m \u001b[38;5;129;01mnot\u001b[39;00m \u001b[38;5;28;01mNone\u001b[39;00m:\n\u001b[0;32m--> 913\u001b[0m         \u001b[38;5;28;01mraise\u001b[39;00m \u001b[38;5;167;01mTypeError\u001b[39;00m(\n\u001b[1;32m    914\u001b[0m             \u001b[38;5;124mf\u001b[39m\u001b[38;5;124m\"\u001b[39m\u001b[38;5;124mBad type of argument \u001b[39m\u001b[38;5;132;01m{\u001b[39;00marg\u001b[38;5;132;01m!r}\u001b[39;00m\u001b[38;5;124m, expected a dataframe \u001b[39m\u001b[38;5;124m\"\u001b[39m\n\u001b[1;32m    915\u001b[0m             \u001b[38;5;124m\"\u001b[39m\u001b[38;5;124mor a mapping.\u001b[39m\u001b[38;5;124m\"\u001b[39m\n\u001b[1;32m    916\u001b[0m         )\n\u001b[1;32m    918\u001b[0m \u001b[38;5;28;01mreturn\u001b[39;00m data, mapping\n",
      "\u001b[0;31mTypeError\u001b[0m: Bad type of argument DataFrame[date: string, airline: string, departure_time: string, source_city: string, duration: double, stops: int, arrival_time: string, destination_city: string, price: int, class: string, flightID: string, days_left: int], expected a dataframe or a mapping."
     ]
    }
   ],
   "source": [
    "import plotnine as p9\n",
    "from plotnine import ggplot, aes, geom_bar, coord_flip, theme_minimal, geom_boxplot\n",
    "\n",
    "# Cast 'duration' to double and 'price' to int\n",
    "df = df.withColumn('duration', col('duration').cast('double'))\n",
    "df = df.withColumn('price', col('price').cast('integer'))\n",
    "\n",
    "# Pie chart for class distribution\n",
    "class_pie_chart = (\n",
    "    ggplot(df, aes(x='factor(1)', fill='class')) +\n",
    "    geom_bar(stat='count', width=1) +\n",
    "    coord_flip() +\n",
    "    theme_minimal() +\n",
    "    p9.scale_fill_manual(values=[\"#1f78b4\", \"#33a02c\"]) +\n",
    "    p9.labs(title='Classes of Different Airlines', fill='Class') +\n",
    "    p9.theme(legend_position='none')\n",
    ")\n",
    "\n",
    "print(class_pie_chart)\n",
    "\n",
    "# Boxplot for Class Vs Ticket Price\n",
    "class_boxplot = (\n",
    "    ggplot(df, aes(x='class', y='price')) +\n",
    "    geom_boxplot(fill=\"#1f78b4\", color=\"black\", width=0.5) +\n",
    "    theme_minimal() +\n",
    "    p9.labs(title='Class Vs Ticket Price', x='Class', y='Price') +\n",
    "    p9.theme(legend_position='none')\n",
    ")\n",
    "\n",
    "print(class_boxplot)\n",
    "\n",
    "# Scatter plot for Duration Vs Price\n",
    "duration_price_scatter = (\n",
    "    ggplot(df, aes(x='duration', y='price', color='class')) +\n",
    "    geom_point() +\n",
    "    theme_minimal() +\n",
    "    p9.labs(title='Scatter Plot: Duration Vs Price', x='Duration', y='Price') +\n",
    "    p9.theme(legend_position='right')\n",
    ")\n",
    "\n",
    "print(duration_price_scatter)"
   ]
  },
  {
   "cell_type": "code",
   "execution_count": null,
   "id": "40c4741e",
   "metadata": {},
   "outputs": [],
   "source": []
  }
 ],
 "metadata": {
  "kernelspec": {
   "display_name": "Python 3 (ipykernel)",
   "language": "python",
   "name": "python3"
  },
  "language_info": {
   "codemirror_mode": {
    "name": "ipython",
    "version": 3
   },
   "file_extension": ".py",
   "mimetype": "text/x-python",
   "name": "python",
   "nbconvert_exporter": "python",
   "pygments_lexer": "ipython3",
   "version": "3.11.6"
  }
 },
 "nbformat": 4,
 "nbformat_minor": 5
}
